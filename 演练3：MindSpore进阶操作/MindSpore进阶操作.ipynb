{
 "cells": [
  {
   "cell_type": "markdown",
   "metadata": {},
   "source": [
    "# 1 实验介绍\n",
    "## 1.1 关于本实验\n",
    "本实验主要介绍MindSpore的进阶用法，比如参数初始化、运行环境配置、数据增强、回调函数等，让学员了解如何用MindSpore进行数据预处理以及搭建复杂神经网络，掌握MindSpore开发的较为完整的流程。\n",
    "## 1.2 实验目的\n",
    "* 理解MindSpore开发全流程。\n",
    "* 理解MindSpore进阶模块的功能。\n",
    "* 掌握MindSpore的进阶操作。\n",
    "\n",
    "## 1.3 背景知识\n",
    "神经网络知识：参数初始化、数据预处理、数据增强、卷积神经网络（卷积层、池化层）、损失函数 \n",
    "## 1.4 实验设计\n",
    "1.参数初始化 \n",
    "2.运行环境配置\n",
    "3.数据集预处理\n",
    "4.数据增强\n",
    "5.进阶神经网络搭建\n",
    "6.回调函数Callback\n",
    "7.模型保存与加载\n",
    "# 2 实验过程\n",
    "## 2.1 参数初始化\n",
    "深度学习模型训练需要对参数进行不断更新，因此权重初始化对于模型性能至关重要，好的初始化参数能够加快模型收敛速度，尽可能找到最优解，缓解梯度消失和梯度爆炸的问题。\n",
    "### 步骤 1\t创建并初始化张量\n",
    "mindspore.common.initializer.initializer\n"
   ]
  },
  {
   "cell_type": "code",
   "execution_count": 1,
   "metadata": {},
   "outputs": [
    {
     "name": "stdout",
     "output_type": "stream",
     "text": [
      "[[[0. 0. 0.]\n",
      "  [0. 0. 0.]]]\n",
      "[[[0. 0. 0.]\n",
      "  [0. 0. 0.]]]\n",
      "[[[1. 1. 1.]\n",
      "  [1. 1. 1.]]]\n",
      "[[[1. 1. 1.]\n",
      "  [1. 1. 1.]]]\n",
      "[[[0. 0. 0.]\n",
      "  [0. 0. 0.]]]\n",
      "(1, 2, 3)\n"
     ]
    }
   ],
   "source": [
    "import numpy as np\n",
    "import mindspore\n",
    "from mindspore import Tensor\n",
    "from mindspore.common.initializer import initializer, One\n",
    "data = Tensor(np.zeros([1, 2, 3]), mindspore.float32)\n",
    "tensor1 = initializer(data, [1, 2, 3], mindspore.float32)\n",
    "tensor2 = initializer('ones', [1, 2, 3], mindspore.float32)\n",
    "tensor3 = initializer(One(), [1, 2, 3], mindspore.float32)\n",
    "tensor4 = initializer(0, [1, 2, 3], mindspore.float32)\n",
    "print(data)\n",
    "print(tensor1)\n",
    "print(tensor2)\n",
    "print(tensor3)\n",
    "print(tensor4)\n",
    "print(tensor4.shape)"
   ]
  },
  {
   "cell_type": "markdown",
   "metadata": {},
   "source": [
    "### 步骤 2\t正态分布初始化\n",
    "用正态分布函数进行初始化。Sigma为正态分布的标准差,mean为均值。\n",
    "\n",
    "mindspore.common.initializer.Normal(sigma=0.01)\n"
   ]
  },
  {
   "cell_type": "code",
   "execution_count": 31,
   "metadata": {},
   "outputs": [
    {
     "name": "stdout",
     "output_type": "stream",
     "text": [
      "[[[-1 10 -3]\n",
      "  [ 7  7 18]]]\n",
      "[[[ 0.0109255  -0.00453881  0.01092415]\n",
      "  [-0.00391397  0.00829144 -0.00115683]]]\n"
     ]
    }
   ],
   "source": [
    "from mindspore.common.initializer import initializer, Normal\n",
    "tensor11 = initializer(Normal(12,4), [1, 2, 3], mindspore.int32)\n",
    "tensor12 = initializer('normal', [1, 2, 3], mindspore.float32)\n",
    "print(tensor11)\n",
    "print(tensor12)"
   ]
  },
  {
   "cell_type": "markdown",
   "metadata": {},
   "source": [
    "## 2.2 运行环境配置\n",
    "mindspore的context可用于配置当前的执行环境，包括执行模式、执行后端和其他特性切换。\n",
    "## 步骤 1\t设置运行环境\n",
    "mindspore.context.set_context\n",
    "* Mode：运行模式为静态图（GRAPH_MODE/0）或动态图（PYNATIVE_MODE/1），默认为动态图；\n",
    "* device_target：运行设备为 “Ascend”, “GPU”或者 “CPU”，默认为“Ascend”;\n",
    "* device_id：运行设备ID，默认为0.\n"
   ]
  },
  {
   "cell_type": "code",
   "execution_count": 32,
   "metadata": {},
   "outputs": [],
   "source": [
    "from mindspore import context\n",
    "\n",
    "context.set_context(mode=context.GRAPH_MODE)  # 设置静态图\n",
    "context.set_context(mode=context.PYNATIVE_MODE)  # 设置动态图\n",
    "context.set_context(device_target=\"CPU\")  # 设置运行设备为CPU\n",
    "context.set_context(device_id=0)  # 设置运行设备ID（只对昇腾芯片有效）"
   ]
  },
  {
   "cell_type": "markdown",
   "metadata": {},
   "source": [
    "## 步骤 2\t查看运行环境\n",
    "mindspore.context.get_context\n"
   ]
  },
  {
   "cell_type": "code",
   "execution_count": 33,
   "metadata": {},
   "outputs": [
    {
     "name": "stdout",
     "output_type": "stream",
     "text": [
      "1\n",
      "CPU\n"
     ]
    }
   ],
   "source": [
    "# 查看运行图模式，0为静态图， 1为动态图\n",
    "mode = mindspore.context.get_context('mode')  \n",
    "# 查看运行设备\n",
    "device_target = mindspore.context.get_context('device_target')\n",
    "\n",
    "print(mode)\n",
    "print(device_target)"
   ]
  },
  {
   "cell_type": "markdown",
   "metadata": {},
   "source": [
    "## 2.3 数据集预处理\n",
    "数据预处理在众多深度学习算法中都起着重要作用，数据预处理可以提高模型精度，加快模型收敛速度，提升模型性能，这里主要介绍MindSpore常用的数据预处理方式。\n",
    "\n",
    "数据是深度学习的基础，良好的数据输入可以对整个深度神经网络训练起到非常积极的作用。在训练前对已加载的数据集进行数据处理，可以解决诸如数据量过大、样本分布不均等问题，从而获得更加优化的数据输入。\n",
    "### 步骤 1\t修改数据类型\n",
    "mindspore.dataset.transforms.c_transforms.TypeCast(data_type)\n"
   ]
  },
  {
   "cell_type": "code",
   "execution_count": 34,
   "metadata": {},
   "outputs": [
    {
     "name": "stdout",
     "output_type": "stream",
     "text": [
      "UInt32\n",
      "UInt32\n",
      "UInt32\n",
      "-----------------------------------\n",
      "Int32\n",
      "Int32\n",
      "Int32\n"
     ]
    }
   ],
   "source": [
    "import mindspore.dataset.transforms.c_transforms as c_transforms\n",
    "import mindspore.common.dtype as mstype\n",
    "from mindspore import dataset as ds\n",
    "\n",
    "dataset_dir = \"./data/train\"  # 数据集路径，Windows和Linux适用\n",
    "\n",
    "mnist_dataset = ds.MnistDataset(dataset_dir=dataset_dir, num_samples=3)\n",
    "\n",
    "# 查看mnist_dataset “label”的数据类型\n",
    "for x in mnist_dataset.create_dict_iterator():\n",
    "    print(x['label'].dtype)\n",
    "print(\"-----------------------------------\")\n",
    "# 修改mnist_dataset “label”的数据类型为int32 \n",
    "type_cast_op = c_transforms.TypeCast(mstype.int32)\n",
    "mnist = mnist_dataset.map(input_columns=\"label\", operations=type_cast_op)\n",
    "\n",
    "for x in mnist.create_dict_iterator():\n",
    "    print(x['label'].dtype)"
   ]
  },
  {
   "cell_type": "markdown",
   "metadata": {},
   "source": [
    "### 步骤 2\tShuffle\n",
    "对数据集进行混洗，随机打乱数据顺序。设定的buffer_size越大，混洗程度越大，但时间、计算资源消耗也会更大。"
   ]
  },
  {
   "attachments": {
    "image.png": {
     "image/png": "[encoded data removed]"
    }
   },
   "cell_type": "markdown",
   "metadata": {},
   "source": [
    "![image.png](attachment:image.png)"
   ]
  },
  {
   "cell_type": "code",
   "execution_count": 37,
   "metadata": {},
   "outputs": [
    {
     "name": "stdout",
     "output_type": "stream",
     "text": [
      "{'data': Tensor(shape=[3], dtype=Int32, value= [0, 1, 2])}\n",
      "{'data': Tensor(shape=[3], dtype=Int32, value= [1, 2, 3])}\n",
      "{'data': Tensor(shape=[3], dtype=Int32, value= [2, 3, 4])}\n",
      "{'data': Tensor(shape=[3], dtype=Int32, value= [3, 4, 5])}\n",
      "{'data': Tensor(shape=[3], dtype=Int32, value= [4, 5, 6])}\n",
      "-----------------------------------\n",
      "{'data': Tensor(shape=[3], dtype=Int32, value= [4, 5, 6])}\n",
      "{'data': Tensor(shape=[3], dtype=Int32, value= [3, 4, 5])}\n",
      "{'data': Tensor(shape=[3], dtype=Int32, value= [1, 2, 3])}\n",
      "{'data': Tensor(shape=[3], dtype=Int32, value= [0, 1, 2])}\n",
      "{'data': Tensor(shape=[3], dtype=Int32, value= [2, 3, 4])}\n"
     ]
    }
   ],
   "source": [
    "import numpy as np\n",
    "import mindspore.dataset as ds\n",
    "\n",
    "ds.config.set_seed(0)\n",
    "\n",
    "def generator_func():\n",
    "    for i in range(5):\n",
    "        yield (np.array([i, i+1, i+2]),)\n",
    "\n",
    "dataset1 = ds.GeneratorDataset(generator_func, [\"data\"])\n",
    "for data in dataset1.create_dict_iterator():\n",
    "    print(data)\n",
    "    \n",
    "print(\"-----------------------------------\")\n",
    "# shuffle 打乱数据集\n",
    "dataset2 = dataset1.shuffle(buffer_size=5)\n",
    "for data in dataset2.create_dict_iterator():\n",
    "    print(data)"
   ]
  },
  {
   "cell_type": "markdown",
   "metadata": {},
   "source": [
    "### 步骤 3\tMap\n",
    "将指定的函数或算子作用于数据集的指定列数据，实现数据映射操作。用户可以自定义映射函数，也可以直接使用c_transforms或py_transforms中的算子针对图像、文本数据进行数据增强。\n"
   ]
  },
  {
   "attachments": {
    "image.png": {
     "image/png": "[encoded data removed]"
    }
   },
   "cell_type": "markdown",
   "metadata": {},
   "source": [
    "![image.png](attachment:image.png)"
   ]
  },
  {
   "cell_type": "code",
   "execution_count": 38,
   "metadata": {},
   "outputs": [
    {
     "name": "stdout",
     "output_type": "stream",
     "text": [
      "{'data': Tensor(shape=[3], dtype=Int32, value= [0, 1, 2])}\n",
      "{'data': Tensor(shape=[3], dtype=Int32, value= [1, 2, 3])}\n",
      "{'data': Tensor(shape=[3], dtype=Int32, value= [2, 3, 4])}\n",
      "{'data': Tensor(shape=[3], dtype=Int32, value= [3, 4, 5])}\n",
      "{'data': Tensor(shape=[3], dtype=Int32, value= [4, 5, 6])}\n",
      "------ after processing ------\n",
      "{'data': Tensor(shape=[3], dtype=Int32, value= [0, 2, 4])}\n",
      "{'data': Tensor(shape=[3], dtype=Int32, value= [2, 4, 6])}\n",
      "{'data': Tensor(shape=[3], dtype=Int32, value= [4, 6, 8])}\n",
      "{'data': Tensor(shape=[3], dtype=Int32, value= [ 6,  8, 10])}\n",
      "{'data': Tensor(shape=[3], dtype=Int32, value= [ 8, 10, 12])}\n"
     ]
    }
   ],
   "source": [
    "import numpy as np\n",
    "import mindspore.dataset as ds\n",
    "\n",
    "def generator_func():\n",
    "    for i in range(5):\n",
    "        yield (np.array([i, i+1, i+2]),)\n",
    "\n",
    "def pyfunc(x):\n",
    "    return x*2\n",
    "\n",
    "dataset1 = ds.GeneratorDataset(generator_func, [\"data\"])\n",
    "\n",
    "for data in dataset1.create_dict_iterator():\n",
    "    print(data)\n",
    "\n",
    "print(\"------ after processing ------\")\n",
    "\n",
    "dataset2 = dataset1.map(operations=pyfunc, input_columns=[\"data\"])\n",
    "\n",
    "for data in dataset2.create_dict_iterator():\n",
    "    print(data)"
   ]
  },
  {
   "cell_type": "markdown",
   "metadata": {},
   "source": [
    "### 步骤 4\tBatch\n",
    "将数据集分批，分别输入到训练系统中进行训练，可以减少训练轮次，达到加速训练过程的目的。\n"
   ]
  },
  {
   "attachments": {
    "image.png": {
     "image/png": "[encoded data removed]"
    }
   },
   "cell_type": "markdown",
   "metadata": {},
   "source": [
    "![image.png](attachment:image.png)"
   ]
  },
  {
   "cell_type": "code",
   "execution_count": 39,
   "metadata": {},
   "outputs": [
    {
     "name": "stdout",
     "output_type": "stream",
     "text": [
      "{'data': Tensor(shape=[2, 3], dtype=Int32, value=\n",
      "[[0, 1, 2],\n",
      " [1, 2, 3]])}\n",
      "{'data': Tensor(shape=[2, 3], dtype=Int32, value=\n",
      "[[2, 3, 4],\n",
      " [3, 4, 5]])}\n",
      "{'data': Tensor(shape=[1, 3], dtype=Int32, value=\n",
      "[[4, 5, 6]])}\n",
      "------ drop remainder ------\n",
      "{'data': Tensor(shape=[2, 3], dtype=Int32, value=\n",
      "[[0, 1, 2],\n",
      " [1, 2, 3]])}\n",
      "{'data': Tensor(shape=[2, 3], dtype=Int32, value=\n",
      "[[2, 3, 4],\n",
      " [3, 4, 5]])}\n"
     ]
    }
   ],
   "source": [
    "import numpy as np\n",
    "import mindspore.dataset as ds\n",
    "\n",
    "def generator_func():\n",
    "    for i in range(5):\n",
    "        yield (np.array([i, i+1, i+2]),)\n",
    "\n",
    "dataset1 = ds.GeneratorDataset(generator_func, [\"data\"])\n",
    "\n",
    "dataset1 = dataset1.batch(batch_size=2, drop_remainder=False)\n",
    "for data in dataset1.create_dict_iterator():\n",
    "    print(data)\n",
    "\n",
    "print(\"------ drop remainder ------\")\n",
    "\n",
    "dataset2 = ds.GeneratorDataset(generator_func, [\"data\"])\n",
    "\n",
    "dataset2 = dataset2.batch(batch_size=2, drop_remainder=True)\n",
    "for data in dataset2.create_dict_iterator():\n",
    "    print(data)"
   ]
  },
  {
   "cell_type": "markdown",
   "metadata": {},
   "source": [
    "### 步骤 5\tRepeat\n",
    "对数据集进行重复，达到扩充数据量的目的。repeat和batch操作的顺序会影响训练batch的数量，建议将repeat置于batch之后。\n"
   ]
  },
  {
   "attachments": {
    "image.png": {
     "image/png": "[encoded data removed]"
    }
   },
   "cell_type": "markdown",
   "metadata": {},
   "source": [
    "![image.png](attachment:image.png)"
   ]
  },
  {
   "cell_type": "code",
   "execution_count": 40,
   "metadata": {},
   "outputs": [
    {
     "name": "stdout",
     "output_type": "stream",
     "text": [
      "{'data': Tensor(shape=[3], dtype=Int32, value= [0, 1, 2])}\n",
      "{'data': Tensor(shape=[3], dtype=Int32, value= [1, 2, 3])}\n",
      "{'data': Tensor(shape=[3], dtype=Int32, value= [2, 3, 4])}\n",
      "{'data': Tensor(shape=[3], dtype=Int32, value= [3, 4, 5])}\n",
      "{'data': Tensor(shape=[3], dtype=Int32, value= [4, 5, 6])}\n",
      "{'data': Tensor(shape=[3], dtype=Int32, value= [0, 1, 2])}\n",
      "{'data': Tensor(shape=[3], dtype=Int32, value= [1, 2, 3])}\n",
      "{'data': Tensor(shape=[3], dtype=Int32, value= [2, 3, 4])}\n",
      "{'data': Tensor(shape=[3], dtype=Int32, value= [3, 4, 5])}\n",
      "{'data': Tensor(shape=[3], dtype=Int32, value= [4, 5, 6])}\n"
     ]
    }
   ],
   "source": [
    "import numpy as np\n",
    "import mindspore.dataset as ds\n",
    "\n",
    "def generator_func():\n",
    "    for i in range(5):\n",
    "        yield (np.array([i, i+1, i+2]),)\n",
    "\n",
    "dataset1 = ds.GeneratorDataset(generator_func, [\"data\"])\n",
    "\n",
    "dataset1 = dataset1.repeat(count=2)\n",
    "for data in dataset1.create_dict_iterator():\n",
    "    print(data)"
   ]
  },
  {
   "cell_type": "markdown",
   "metadata": {},
   "source": [
    "### 步骤 6\tZip\n",
    "将两个数据集进行列拼接，合并为一个数据集。如果两个数据集的列名相同，则不会合并，请注意列的命名；如果两个数据集的行数不同，合并后的行数将和较小行数保持一致。\n"
   ]
  },
  {
   "attachments": {
    "image.png": {
     "image/png": "[encoded data removed]"
    }
   },
   "cell_type": "markdown",
   "metadata": {},
   "source": [
    "![image.png](attachment:image.png)"
   ]
  },
  {
   "cell_type": "code",
   "execution_count": 41,
   "metadata": {},
   "outputs": [
    {
     "name": "stdout",
     "output_type": "stream",
     "text": [
      "{'data1': Tensor(shape=[3], dtype=Int32, value= [0, 1, 2])}\n",
      "{'data1': Tensor(shape=[3], dtype=Int32, value= [1, 2, 3])}\n",
      "{'data1': Tensor(shape=[3], dtype=Int32, value= [2, 3, 4])}\n",
      "{'data1': Tensor(shape=[3], dtype=Int32, value= [3, 4, 5])}\n",
      "{'data1': Tensor(shape=[3], dtype=Int32, value= [4, 5, 6])}\n",
      "{'data1': Tensor(shape=[3], dtype=Int32, value= [5, 6, 7])}\n",
      "{'data1': Tensor(shape=[3], dtype=Int32, value= [6, 7, 8])}\n",
      "-----------------------------------\n",
      "{'data2': Tensor(shape=[2], dtype=Int32, value= [1, 2])}\n",
      "{'data2': Tensor(shape=[2], dtype=Int32, value= [1, 2])}\n",
      "{'data2': Tensor(shape=[2], dtype=Int32, value= [1, 2])}\n",
      "{'data2': Tensor(shape=[2], dtype=Int32, value= [1, 2])}\n",
      "-----------------------------------\n",
      "{'data1': Tensor(shape=[3], dtype=Int32, value= [0, 1, 2]), 'data2': Tensor(shape=[2], dtype=Int32, value= [1, 2])}\n",
      "{'data1': Tensor(shape=[3], dtype=Int32, value= [1, 2, 3]), 'data2': Tensor(shape=[2], dtype=Int32, value= [1, 2])}\n",
      "{'data1': Tensor(shape=[3], dtype=Int32, value= [2, 3, 4]), 'data2': Tensor(shape=[2], dtype=Int32, value= [1, 2])}\n",
      "{'data1': Tensor(shape=[3], dtype=Int32, value= [3, 4, 5]), 'data2': Tensor(shape=[2], dtype=Int32, value= [1, 2])}\n"
     ]
    }
   ],
   "source": [
    "import numpy as np\n",
    "import mindspore.dataset as ds\n",
    "\n",
    "def generator_func():\n",
    "    for i in range(7):\n",
    "        yield (np.array([i, i+1, i+2]),)\n",
    "\n",
    "def generator_func2():\n",
    "    for i in range(4):\n",
    "        yield (np.array([1, 2]),)\n",
    "\n",
    "dataset1 = ds.GeneratorDataset(generator_func, [\"data1\"])\n",
    "for data in dataset1.create_dict_iterator():\n",
    "    print(data)\n",
    "print(\"-----------------------------------\")\n",
    "dataset2 = ds.GeneratorDataset(generator_func2, [\"data2\"])\n",
    "for data in dataset2.create_dict_iterator():\n",
    "    print(data)\n",
    "print(\"-----------------------------------\")\n",
    "dataset3 = ds.zip((dataset1, dataset2))\n",
    "\n",
    "for data in dataset3.create_dict_iterator():\n",
    "    print(data)"
   ]
  },
  {
   "cell_type": "markdown",
   "metadata": {},
   "source": [
    "## 2.4 数据增强\n",
    "在计算机视觉任务中，数据量过小或是样本场景单一等问题都会影响模型的训练效果，可以通过数据增强操作对图像进行预处理，从而提升模型的泛化性。\n",
    "### 步骤 1\t随机裁剪图片\n",
    "mindspore.dataset.vision.c_transforms.RandomCrop\n"
   ]
  },
  {
   "cell_type": "code",
   "execution_count": 42,
   "metadata": {},
   "outputs": [
    {
     "data": {
      "image/png": "[encoded data removed]",
      "text/plain": [
       "<Figure size 576x576 with 3 Axes>"
      ]
     },
     "metadata": {
      "needs_background": "light"
     },
     "output_type": "display_data"
    },
    {
     "data": {
      "image/png": "[encoded data removed]",
      "text/plain": [
       "<Figure size 576x576 with 3 Axes>"
      ]
     },
     "metadata": {
      "needs_background": "light"
     },
     "output_type": "display_data"
    }
   ],
   "source": [
    "import mindspore.dataset.vision.c_transforms as CV\n",
    "import matplotlib.pyplot as plt\n",
    "\n",
    "# 从mnist dataset读取3张图片\n",
    "mnist_dataset = ds.MnistDataset(dataset_dir=dataset_dir, num_samples=3)\n",
    "\n",
    "i = 1\n",
    "\n",
    "# 显示原图\n",
    "plt.figure(figsize=(8,8))\n",
    "for dic in mnist_dataset.create_dict_iterator():\n",
    "    plt.subplot(3,3,i)\n",
    "    plt.imshow(dic['image'].asnumpy())\n",
    "    plt.axis('off')\n",
    "    plt.title('Orignal')\n",
    "    i +=1\n",
    "\n",
    "plt.show()\n",
    "\n",
    "# 随机裁剪：输出大小（32x32）, padding 方式 左上右下。\n",
    "random_crop_op = CV.RandomCrop([32, 20], [4, 4, 4, 4])\n",
    "mnist_dataset1 = mnist_dataset.map(operations=random_crop_op, input_columns=[\"image\"])\n",
    "\n",
    "# 显示随机裁剪后的图片\n",
    "plt.figure(figsize=(8,8))\n",
    "for dic in mnist_dataset1.create_dict_iterator(output_numpy=True):\n",
    "    plt.subplot(3,3,i)\n",
    "    plt.imshow(dic['image'][:,:,0])\n",
    "    plt.axis('off')\n",
    "    plt.title('RandomCrop')\n",
    "    i +=1\n",
    "\n",
    "plt.show()"
   ]
  },
  {
   "cell_type": "markdown",
   "metadata": {},
   "source": [
    "### 步骤 2\t调整图片大小\n",
    "mindspore.dataset.vision.c_transforms.Resize\n"
   ]
  },
  {
   "cell_type": "code",
   "execution_count": 43,
   "metadata": {},
   "outputs": [
    {
     "data": {
      "image/png": "[encoded data removed]",
      "text/plain": [
       "<Figure size 576x576 with 3 Axes>"
      ]
     },
     "metadata": {
      "needs_background": "light"
     },
     "output_type": "display_data"
    },
    {
     "data": {
      "image/png": "[encoded data removed]",
      "text/plain": [
       "<Figure size 576x576 with 3 Axes>"
      ]
     },
     "metadata": {
      "needs_background": "light"
     },
     "output_type": "display_data"
    }
   ],
   "source": [
    "import mindspore.dataset.vision.c_transforms as CV\n",
    "\n",
    "# 从mnist dataset读取3张图片\n",
    "mnist_dataset = ds.MnistDataset(dataset_dir=dataset_dir, num_samples=3)\n",
    "\n",
    "i = 1\n",
    "\n",
    "# 显示原图\n",
    "plt.figure(figsize=(8,8))\n",
    "for dic in mnist_dataset.create_dict_iterator():\n",
    "    plt.subplot(3,3,i)\n",
    "    plt.imshow(dic['image'].asnumpy())\n",
    "    plt.axis('off')\n",
    "    plt.title('Orignal')\n",
    "    i +=1\n",
    "\n",
    "plt.show()\n",
    "\n",
    "# 调整图像大小\n",
    "resize = CV.Resize([20, 35])\n",
    "mnist_dataset1 = mnist_dataset.map(operations=resize, input_columns=[\"image\"])\n",
    "\n",
    "\n",
    "# 显示调整大小后的图片\n",
    "plt.figure(figsize=(8,8))\n",
    "for dic in mnist_dataset1.create_dict_iterator(output_numpy=True):\n",
    "    plt.subplot(3,3,i)\n",
    "    plt.imshow(dic['image'][:,:,0])\n",
    "    plt.axis('off')\n",
    "    plt.title('Resize')\n",
    "    i +=1\n",
    "\n",
    "plt.show()\n"
   ]
  },
  {
   "cell_type": "markdown",
   "metadata": {},
   "source": [
    "### 步骤 3\t像素值修改\n",
    "mindspore.dataset.vision.c_transforms.Rescale(rescale, shift)\n"
   ]
  },
  {
   "cell_type": "code",
   "execution_count": 44,
   "metadata": {},
   "outputs": [
    {
     "name": "stdout",
     "output_type": "stream",
     "text": [
      "原图像素值: [[  0   0   0   0   0   0   0   0   0   0   0   0   0   0   0   0   0   0\n",
      "    0   0   0   0   0   0   0   0   0   0]\n",
      " [  0   0   0   0   0   0   0   0   0   0   0   0   0   0   0   0   0   0\n",
      "    0   0   0   0   0   0   0   0   0   0]\n",
      " [  0   0   0   0   0   0   0   0   0   0   0   0   0  42 240 207   7   0\n",
      "    0   0   0   0   0   0   0   0   0   0]\n",
      " [  0   0   0   0   0   0   0   0   0   0   0   0  14 183 254 252  32   0\n",
      "    0   0   0   0   0   0   0   0   0   0]\n",
      " [  0   0   0   0   0   0   0   0   0   0   0   0  57 254 254 219   0   0\n",
      "    0   0   0   0   0   0   0   0   0   0]\n",
      " [  0   0   0   0   0   0   0   0   0   0   0   0  78 254 254 120   0   0\n",
      "    0   0   0   0   0   0   0   0   0   0]\n",
      " [  0   0   0   0   0   0   0   0   0   0   0   0  87 254 254  80   0   0\n",
      "    0   0   0   0   0   0   0   0   0   0]\n",
      " [  0   0   0   0   0   0   0   0   0   0   0   0 215 255 240  22   0   0\n",
      "    0   0   0   0   0   0   0   0   0   0]\n",
      " [  0   0   0   0   0   0   0   0   0   0   0   0 248 254 146   0   0   0\n",
      "    0   0   0   0   0   0   0   0   0   0]\n",
      " [  0   0   0   0   0   0   0   0   0   0   0   4 249 254 122   0   0   0\n",
      "    0   0   0   0   0   0   0   0   0   0]\n",
      " [  0   0   0   0   0   0   0   0   0   0   0  64 254 254  56   0   0   0\n",
      "    0   0   0   0   0   0   0   0   0   0]\n",
      " [  0   0   0   0   0   0   0   0   0   0   0 178 254 231   3   0   0   0\n",
      "    0   0   0   0   0   0   0   0   0   0]\n",
      " [  0   0   0   0   0   0   0   0   0   0  11 233 254 168   0   0   0   0\n",
      "    0   0   0   0   0   0   0   0   0   0]\n",
      " [  0   0   0   0   0   0   0   0   0   0  72 254 246  41   0   0   3  57\n",
      "  104  65   0   0   0   0   0   0   0   0]\n",
      " [  0   0   0   0   0   0   0   0   0   0 162 254 216   0   0  80 232 254\n",
      "  254 254 193  16   0   0   0   0   0   0]\n",
      " [  0   0   0   0   0   0   0   0   0   0 227 255 195   0  56 240 254 213\n",
      "  177 241 254 129   0   0   0   0   0   0]\n",
      " [  0   0   0   0   0   0   0   0   0  32 248 255 113   3 193 254 196   0\n",
      "    0 132 254 207   0   0   0   0   0   0]\n",
      " [  0   0   0   0   0   0   0   0   0  43 254 254  38  80 254 241  26   0\n",
      "    0 142 254 219   0   0   0   0   0   0]\n",
      " [  0   0   0   0   0   0   0   0   0  19 219 255 155 142 254 179   0   0\n",
      "   11 197 254 135   0   0   0   0   0   0]\n",
      " [  0   0   0   0   0   0   0   0   0   0 144 254 245 228 254 114  52 120\n",
      "  192 254 184   9   0   0   0   0   0   0]\n",
      " [  0   0   0   0   0   0   0   0   0   0  12 182 254 254 254 254 254 254\n",
      "  210 119   5   0   0   0   0   0   0   0]\n",
      " [  0   0   0   0   0   0   0   0   0   0   0   0 113 119 204 252 172 100\n",
      "   15   0   0   0   0   0   0   0   0   0]\n",
      " [  0   0   0   0   0   0   0   0   0   0   0   0   0   0   0   0   0   0\n",
      "    0   0   0   0   0   0   0   0   0   0]\n",
      " [  0   0   0   0   0   0   0   0   0   0   0   0   0   0   0   0   0   0\n",
      "    0   0   0   0   0   0   0   0   0   0]\n",
      " [  0   0   0   0   0   0   0   0   0   0   0   0   0   0   0   0   0   0\n",
      "    0   0   0   0   0   0   0   0   0   0]\n",
      " [  0   0   0   0   0   0   0   0   0   0   0   0   0   0   0   0   0   0\n",
      "    0   0   0   0   0   0   0   0   0   0]\n",
      " [  0   0   0   0   0   0   0   0   0   0   0   0   0   0   0   0   0   0\n",
      "    0   0   0   0   0   0   0   0   0   0]\n",
      " [  0   0   0   0   0   0   0   0   0   0   0   0   0   0   0   0   0   0\n",
      "    0   0   0   0   0   0   0   0   0   0]]\n",
      "原图像素值: [[  0   0   0   0   0   0   0   0   0   0   0   0   0   0   0   0   0   0\n",
      "    0   0   0   0   0   0   0   0   0   0]\n",
      " [  0   0   0   0   0   0   0   0   0   0   0   0   0   0   0   0   0   0\n",
      "    0   0   0   0   0   0   0   0   0   0]\n",
      " [  0   0   0   0   0   0   0   0   0   0   0   0   0   0   0   0   0   0\n",
      "    0   0   0   0   0   0   0   0   0   0]\n",
      " [  0   0   0   0   0   0   0   0   0   0   0   0   0   0   0   0   0   0\n",
      "    0   0   0   0   0   0   0   0   0   0]\n",
      " [  0   0   0   0   0   0   0   0   0   0   0   0   0   0   0   0  48 218\n",
      "  209 193 130 139  14   0   0   0   0   0]\n",
      " [  0   0   0   0   0   0   0   0   0   0   0   0   0  36 129 164 247 252\n",
      "  252 253 226 244  49   0   0   0   0   0]\n",
      " [  0   0   0   0   0   0   0   0   0   0   0   0 112 241 253 252 252 252\n",
      "  199  83 205 251 212  30   0   0   0   0]\n",
      " [  0   0   0   0   0   0   0   0   0   0   0  15 225 252 253 252 247 162\n",
      "   49   0  57 246 252  77   0   0   0   0]\n",
      " [  0   0   0   0   0   0   0   0   0   0   0   4 138 252 191 112  38   0\n",
      "    0   0  85 252 252  42   0   0   0   0]\n",
      " [  0   0   0   0   0   0   0   0   0   0   0   0   0   0   0   0   0   0\n",
      "    0   0  50 245 253  86   0   0   0   0]\n",
      " [  0   0   0   0   0   0   0   0   0   0   0   0   0   0   0   0   0   0\n",
      "    0   0 121 252 252  42   0   0   0   0]\n",
      " [  0   0   0   0   0   0   0   0   0   0   0   0   0   0   0   0   0   0\n",
      "    0   4 116 244 221  65   0   0   0   0]\n",
      " [  0   0   0   0   0   0   0   0   0   0   0   0   0   0   0   0   0   0\n",
      "    0  69 252 199 162   0   0   0   0   0]\n",
      " [  0   0   0   0   0   0   0   0   0   0   0   0   0   0   0   0   0   0\n",
      "    0 148 217  69  49   0   0   0   0   0]\n",
      " [  0   0   0   0   0   0   0   0   0   0   0   0   0  18  43 148  51  43\n",
      "   87 210 239 106   0   0   0   0   0   0]\n",
      " [  0   0   0   0   0   0   0   0   0   0   0  87 190 216 227 252 252 252\n",
      "  252 239  68   0   0   0   0   0   0   0]\n",
      " [  0   0   0   0   0   0   0   0   0  75 206 251 252 252 209 173 244 252\n",
      "  252 250  67   0   0   0   0   0   0   0]\n",
      " [  0   0   0   0   0   0   0   0 141 218 252 252 236 242 253 252 252 252\n",
      "  252 253 168   0   0   0   0   0   0   0]\n",
      " [  0   0   0   0   0   0  98 176 246 253 252 244 111 167 253 217 200 182\n",
      "  191 253 203   9   0   0   0   0   0   0]\n",
      " [  0   0   0   0   0 103 253 253 253 255 174  16  41 185 132  71  62   0\n",
      "    0 107  27   0   0   0   0   0   0   0]\n",
      " [  0   0   0   0  15 211 252 252 252 183 252 200 128  53   0   0   0   0\n",
      "    0   0   0   0   0   0   0   0   0   0]\n",
      " [  0   0   0   0  96 252 252 167 100 148 252 199  84   0   0   0   0   0\n",
      "    0   0   0   0   0   0   0   0   0   0]\n",
      " [  0   0   0   0 104 252 247 149 221 243 153  49  72   0   0   0   0   0\n",
      "    0   0   0   0   0   0   0   0   0   0]\n",
      " [  0   0   0   0  87 182 231  99 147  79   0   0   0   0   0   0   0   0\n",
      "    0   0   0   0   0   0   0   0   0   0]\n",
      " [  0   0   0   0   0   0   0   0   0   0   0   0   0   0   0   0   0   0\n",
      "    0   0   0   0   0   0   0   0   0   0]\n",
      " [  0   0   0   0   0   0   0   0   0   0   0   0   0   0   0   0   0   0\n",
      "    0   0   0   0   0   0   0   0   0   0]\n",
      " [  0   0   0   0   0   0   0   0   0   0   0   0   0   0   0   0   0   0\n",
      "    0   0   0   0   0   0   0   0   0   0]\n",
      " [  0   0   0   0   0   0   0   0   0   0   0   0   0   0   0   0   0   0\n",
      "    0   0   0   0   0   0   0   0   0   0]]\n",
      "原图像素值: [[  0   0   0   0   0   0   0   0   0   0   0   0   0   0   0   0   0   0\n",
      "    0   0   0   0   0   0   0   0   0   0]\n",
      " [  0   0   0   0   0   0   0   0   0   0   0   0   0   0   0   0   0   0\n",
      "    0   0   0   0   0   0   0   0   0   0]\n",
      " [  0   0   0   0   0   0   0   0   0   0   0   0   0   0   0   0   0   0\n",
      "    0   0   0   0   0   0   0   0   0   0]\n",
      " [  0   0   0   0   0   0   0   0   0   0   0   0   0   0   0   0   0   0\n",
      "    0   0   0   0   0   0   0   0   0   0]\n",
      " [  0   0   0   0   0   0   0   0   0   0   0   0   0   0   0 109 249 113\n",
      "    0   0   0   0   0   0   0   0   0   0]\n",
      " [  0   0   0   0   0   0   0   0   0   0   0   0   0   0   0 173 254 148\n",
      "    0   0   0   0   0   0   0   0   0   0]\n",
      " [  0   0   0   0   0   0   0   0   0   0   0   0   0   0  11 233 254 148\n",
      "    0   0   0   0   0   0   0   0   0   0]\n",
      " [  0   0   0   0   0   0   0   0   0   0   0   0   0   0  15 254 254 148\n",
      "    0   0   0   0   0   0   0   0   0   0]\n",
      " [  0   0   0   0   0   0   0   0   0   0   0   0   0   0  24 254 254 148\n",
      "    0   0   0   0   0   0   0   0   0   0]\n",
      " [  0   0   0   0   0   0   0   0   0   0   0   0   0   0 112 254 254 148\n",
      "    0   0   0   0   0   0   0   0   0   0]\n",
      " [  0   0   0   0   0   0   0   0   0   0   0   0   0   0 112 254 254 148\n",
      "    0   0   0   0   0   0   0   0   0   0]\n",
      " [  0   0   0   0   0   0   0   0   0   0   0   0   0   0 191 254 254 105\n",
      "    0   0   0   0   0   0   0   0   0   0]\n",
      " [  0   0   0   0   0   0   0   0   0   0   0   0   0   0 207 254 241  36\n",
      "    0   0   0   0   0   0   0   0   0   0]\n",
      " [  0   0   0   0   0   0   0   0   0   0   0   0   0  65 252 254 193   0\n",
      "    0   0   0   0   0   0   0   0   0   0]\n",
      " [  0   0   0   0   0   0   0   0   0   0   0   0   0 186 254 254 115   0\n",
      "    0   0   0   0   0   0   0   0   0   0]\n",
      " [  0   0   0   0   0   0   0   0   0   0   0   0   0 241 254 254  50   0\n",
      "    0   0   0   0   0   0   0   0   0   0]\n",
      " [  0   0   0   0   0   0   0   0   0   0   0   0  93 254 254 130   2   0\n",
      "    0   0   0   0   0   0   0   0   0   0]\n",
      " [  0   0   0   0   0   0   0   0   0   0   0  16 239 254 254  79   0   0\n",
      "    0   0   0   0   0   0   0   0   0   0]\n",
      " [  0   0   0   0   0   0   0   0   0   0   0  20 254 254 240   0   0   0\n",
      "    0   0   0   0   0   0   0   0   0   0]\n",
      " [  0   0   0   0   0   0   0   0   0   0   9 164 254 254 102   0   0   0\n",
      "    0   0   0   0   0   0   0   0   0   0]\n",
      " [  0   0   0   0   0   0   0   0   0   0  55 254 254 254  47   0   0   0\n",
      "    0   0   0   0   0   0   0   0   0   0]\n",
      " [  0   0   0   0   0   0   0   0   0   0 149 254 254 144   0   0   0   0\n",
      "    0   0   0   0   0   0   0   0   0   0]\n",
      " [  0   0   0   0   0   0   0   0   0   0 235 254 254  61   0   0   0   0\n",
      "    0   0   0   0   0   0   0   0   0   0]\n",
      " [  0   0   0   0   0   0   0   0   0   0 136 254 156   4   0   0   0   0\n",
      "    0   0   0   0   0   0   0   0   0   0]\n",
      " [  0   0   0   0   0   0   0   0   0   0   0   0   0   0   0   0   0   0\n",
      "    0   0   0   0   0   0   0   0   0   0]\n",
      " [  0   0   0   0   0   0   0   0   0   0   0   0   0   0   0   0   0   0\n",
      "    0   0   0   0   0   0   0   0   0   0]\n",
      " [  0   0   0   0   0   0   0   0   0   0   0   0   0   0   0   0   0   0\n",
      "    0   0   0   0   0   0   0   0   0   0]\n",
      " [  0   0   0   0   0   0   0   0   0   0   0   0   0   0   0   0   0   0\n",
      "    0   0   0   0   0   0   0   0   0   0]]\n"
     ]
    },
    {
     "name": "stdout",
     "output_type": "stream",
     "text": [
      "修改后的像素值: [[100. 100. 100. 100. 100. 100. 100. 100. 100. 100. 100. 100. 100. 100.\n",
      "  100. 100. 100. 100. 100. 100. 100. 100. 100. 100. 100. 100. 100. 100.]\n",
      " [100. 100. 100. 100. 100. 100. 100. 100. 100. 100. 100. 100. 100. 100.\n",
      "  100. 100. 100. 100. 100. 100. 100. 100. 100. 100. 100. 100. 100. 100.]\n",
      " [100. 100. 100. 100. 100. 100. 100. 100. 100. 100. 100. 100. 100. 226.\n",
      "  820. 721. 121. 100. 100. 100. 100. 100. 100. 100. 100. 100. 100. 100.]\n",
      " [100. 100. 100. 100. 100. 100. 100. 100. 100. 100. 100. 100. 142. 649.\n",
      "  862. 856. 196. 100. 100. 100. 100. 100. 100. 100. 100. 100. 100. 100.]\n",
      " [100. 100. 100. 100. 100. 100. 100. 100. 100. 100. 100. 100. 271. 862.\n",
      "  862. 757. 100. 100. 100. 100. 100. 100. 100. 100. 100. 100. 100. 100.]\n",
      " [100. 100. 100. 100. 100. 100. 100. 100. 100. 100. 100. 100. 334. 862.\n",
      "  862. 460. 100. 100. 100. 100. 100. 100. 100. 100. 100. 100. 100. 100.]\n",
      " [100. 100. 100. 100. 100. 100. 100. 100. 100. 100. 100. 100. 361. 862.\n",
      "  862. 340. 100. 100. 100. 100. 100. 100. 100. 100. 100. 100. 100. 100.]\n",
      " [100. 100. 100. 100. 100. 100. 100. 100. 100. 100. 100. 100. 745. 865.\n",
      "  820. 166. 100. 100. 100. 100. 100. 100. 100. 100. 100. 100. 100. 100.]\n",
      " [100. 100. 100. 100. 100. 100. 100. 100. 100. 100. 100. 100. 844. 862.\n",
      "  538. 100. 100. 100. 100. 100. 100. 100. 100. 100. 100. 100. 100. 100.]\n",
      " [100. 100. 100. 100. 100. 100. 100. 100. 100. 100. 100. 112. 847. 862.\n",
      "  466. 100. 100. 100. 100. 100. 100. 100. 100. 100. 100. 100. 100. 100.]\n",
      " [100. 100. 100. 100. 100. 100. 100. 100. 100. 100. 100. 292. 862. 862.\n",
      "  268. 100. 100. 100. 100. 100. 100. 100. 100. 100. 100. 100. 100. 100.]\n",
      " [100. 100. 100. 100. 100. 100. 100. 100. 100. 100. 100. 634. 862. 793.\n",
      "  109. 100. 100. 100. 100. 100. 100. 100. 100. 100. 100. 100. 100. 100.]\n",
      " [100. 100. 100. 100. 100. 100. 100. 100. 100. 100. 133. 799. 862. 604.\n",
      "  100. 100. 100. 100. 100. 100. 100. 100. 100. 100. 100. 100. 100. 100.]\n",
      " [100. 100. 100. 100. 100. 100. 100. 100. 100. 100. 316. 862. 838. 223.\n",
      "  100. 100. 109. 271. 412. 295. 100. 100. 100. 100. 100. 100. 100. 100.]\n",
      " [100. 100. 100. 100. 100. 100. 100. 100. 100. 100. 586. 862. 748. 100.\n",
      "  100. 340. 796. 862. 862. 862. 679. 148. 100. 100. 100. 100. 100. 100.]\n",
      " [100. 100. 100. 100. 100. 100. 100. 100. 100. 100. 781. 865. 685. 100.\n",
      "  268. 820. 862. 739. 631. 823. 862. 487. 100. 100. 100. 100. 100. 100.]\n",
      " [100. 100. 100. 100. 100. 100. 100. 100. 100. 196. 844. 865. 439. 109.\n",
      "  679. 862. 688. 100. 100. 496. 862. 721. 100. 100. 100. 100. 100. 100.]\n",
      " [100. 100. 100. 100. 100. 100. 100. 100. 100. 229. 862. 862. 214. 340.\n",
      "  862. 823. 178. 100. 100. 526. 862. 757. 100. 100. 100. 100. 100. 100.]\n",
      " [100. 100. 100. 100. 100. 100. 100. 100. 100. 157. 757. 865. 565. 526.\n",
      "  862. 637. 100. 100. 133. 691. 862. 505. 100. 100. 100. 100. 100. 100.]\n",
      " [100. 100. 100. 100. 100. 100. 100. 100. 100. 100. 532. 862. 835. 784.\n",
      "  862. 442. 256. 460. 676. 862. 652. 127. 100. 100. 100. 100. 100. 100.]\n",
      " [100. 100. 100. 100. 100. 100. 100. 100. 100. 100. 136. 646. 862. 862.\n",
      "  862. 862. 862. 862. 730. 457. 115. 100. 100. 100. 100. 100. 100. 100.]\n",
      " [100. 100. 100. 100. 100. 100. 100. 100. 100. 100. 100. 100. 439. 457.\n",
      "  712. 856. 616. 400. 145. 100. 100. 100. 100. 100. 100. 100. 100. 100.]\n",
      " [100. 100. 100. 100. 100. 100. 100. 100. 100. 100. 100. 100. 100. 100.\n",
      "  100. 100. 100. 100. 100. 100. 100. 100. 100. 100. 100. 100. 100. 100.]\n",
      " [100. 100. 100. 100. 100. 100. 100. 100. 100. 100. 100. 100. 100. 100.\n",
      "  100. 100. 100. 100. 100. 100. 100. 100. 100. 100. 100. 100. 100. 100.]\n",
      " [100. 100. 100. 100. 100. 100. 100. 100. 100. 100. 100. 100. 100. 100.\n",
      "  100. 100. 100. 100. 100. 100. 100. 100. 100. 100. 100. 100. 100. 100.]\n",
      " [100. 100. 100. 100. 100. 100. 100. 100. 100. 100. 100. 100. 100. 100.\n",
      "  100. 100. 100. 100. 100. 100. 100. 100. 100. 100. 100. 100. 100. 100.]\n",
      " [100. 100. 100. 100. 100. 100. 100. 100. 100. 100. 100. 100. 100. 100.\n",
      "  100. 100. 100. 100. 100. 100. 100. 100. 100. 100. 100. 100. 100. 100.]\n",
      " [100. 100. 100. 100. 100. 100. 100. 100. 100. 100. 100. 100. 100. 100.\n",
      "  100. 100. 100. 100. 100. 100. 100. 100. 100. 100. 100. 100. 100. 100.]]\n",
      "修改后的像素值: [[100. 100. 100. 100. 100. 100. 100. 100. 100. 100. 100. 100. 100. 100.\n",
      "  100. 100. 100. 100. 100. 100. 100. 100. 100. 100. 100. 100. 100. 100.]\n",
      " [100. 100. 100. 100. 100. 100. 100. 100. 100. 100. 100. 100. 100. 100.\n",
      "  100. 100. 100. 100. 100. 100. 100. 100. 100. 100. 100. 100. 100. 100.]\n",
      " [100. 100. 100. 100. 100. 100. 100. 100. 100. 100. 100. 100. 100. 100.\n",
      "  100. 100. 100. 100. 100. 100. 100. 100. 100. 100. 100. 100. 100. 100.]\n",
      " [100. 100. 100. 100. 100. 100. 100. 100. 100. 100. 100. 100. 100. 100.\n",
      "  100. 100. 100. 100. 100. 100. 100. 100. 100. 100. 100. 100. 100. 100.]\n",
      " [100. 100. 100. 100. 100. 100. 100. 100. 100. 100. 100. 100. 100. 100.\n",
      "  100. 100. 244. 754. 727. 679. 490. 517. 142. 100. 100. 100. 100. 100.]\n",
      " [100. 100. 100. 100. 100. 100. 100. 100. 100. 100. 100. 100. 100. 208.\n",
      "  487. 592. 841. 856. 856. 859. 778. 832. 247. 100. 100. 100. 100. 100.]\n",
      " [100. 100. 100. 100. 100. 100. 100. 100. 100. 100. 100. 100. 436. 823.\n",
      "  859. 856. 856. 856. 697. 349. 715. 853. 736. 190. 100. 100. 100. 100.]\n",
      " [100. 100. 100. 100. 100. 100. 100. 100. 100. 100. 100. 145. 775. 856.\n",
      "  859. 856. 841. 586. 247. 100. 271. 838. 856. 331. 100. 100. 100. 100.]\n",
      " [100. 100. 100. 100. 100. 100. 100. 100. 100. 100. 100. 112. 514. 856.\n",
      "  673. 436. 214. 100. 100. 100. 355. 856. 856. 226. 100. 100. 100. 100.]\n",
      " [100. 100. 100. 100. 100. 100. 100. 100. 100. 100. 100. 100. 100. 100.\n",
      "  100. 100. 100. 100. 100. 100. 250. 835. 859. 358. 100. 100. 100. 100.]\n",
      " [100. 100. 100. 100. 100. 100. 100. 100. 100. 100. 100. 100. 100. 100.\n",
      "  100. 100. 100. 100. 100. 100. 463. 856. 856. 226. 100. 100. 100. 100.]\n",
      " [100. 100. 100. 100. 100. 100. 100. 100. 100. 100. 100. 100. 100. 100.\n",
      "  100. 100. 100. 100. 100. 112. 448. 832. 763. 295. 100. 100. 100. 100.]\n",
      " [100. 100. 100. 100. 100. 100. 100. 100. 100. 100. 100. 100. 100. 100.\n",
      "  100. 100. 100. 100. 100. 307. 856. 697. 586. 100. 100. 100. 100. 100.]\n",
      " [100. 100. 100. 100. 100. 100. 100. 100. 100. 100. 100. 100. 100. 100.\n",
      "  100. 100. 100. 100. 100. 544. 751. 307. 247. 100. 100. 100. 100. 100.]\n",
      " [100. 100. 100. 100. 100. 100. 100. 100. 100. 100. 100. 100. 100. 154.\n",
      "  229. 544. 253. 229. 361. 730. 817. 418. 100. 100. 100. 100. 100. 100.]\n",
      " [100. 100. 100. 100. 100. 100. 100. 100. 100. 100. 100. 361. 670. 748.\n",
      "  781. 856. 856. 856. 856. 817. 304. 100. 100. 100. 100. 100. 100. 100.]\n",
      " [100. 100. 100. 100. 100. 100. 100. 100. 100. 325. 718. 853. 856. 856.\n",
      "  727. 619. 832. 856. 856. 850. 301. 100. 100. 100. 100. 100. 100. 100.]\n",
      " [100. 100. 100. 100. 100. 100. 100. 100. 523. 754. 856. 856. 808. 826.\n",
      "  859. 856. 856. 856. 856. 859. 604. 100. 100. 100. 100. 100. 100. 100.]\n",
      " [100. 100. 100. 100. 100. 100. 394. 628. 838. 859. 856. 832. 433. 601.\n",
      "  859. 751. 700. 646. 673. 859. 709. 127. 100. 100. 100. 100. 100. 100.]\n",
      " [100. 100. 100. 100. 100. 409. 859. 859. 859. 865. 622. 148. 223. 655.\n",
      "  496. 313. 286. 100. 100. 421. 181. 100. 100. 100. 100. 100. 100. 100.]\n",
      " [100. 100. 100. 100. 145. 733. 856. 856. 856. 649. 856. 700. 484. 259.\n",
      "  100. 100. 100. 100. 100. 100. 100. 100. 100. 100. 100. 100. 100. 100.]\n",
      " [100. 100. 100. 100. 388. 856. 856. 601. 400. 544. 856. 697. 352. 100.\n",
      "  100. 100. 100. 100. 100. 100. 100. 100. 100. 100. 100. 100. 100. 100.]\n",
      " [100. 100. 100. 100. 412. 856. 841. 547. 763. 829. 559. 247. 316. 100.\n",
      "  100. 100. 100. 100. 100. 100. 100. 100. 100. 100. 100. 100. 100. 100.]\n",
      " [100. 100. 100. 100. 361. 646. 793. 397. 541. 337. 100. 100. 100. 100.\n",
      "  100. 100. 100. 100. 100. 100. 100. 100. 100. 100. 100. 100. 100. 100.]\n",
      " [100. 100. 100. 100. 100. 100. 100. 100. 100. 100. 100. 100. 100. 100.\n",
      "  100. 100. 100. 100. 100. 100. 100. 100. 100. 100. 100. 100. 100. 100.]\n",
      " [100. 100. 100. 100. 100. 100. 100. 100. 100. 100. 100. 100. 100. 100.\n",
      "  100. 100. 100. 100. 100. 100. 100. 100. 100. 100. 100. 100. 100. 100.]\n",
      " [100. 100. 100. 100. 100. 100. 100. 100. 100. 100. 100. 100. 100. 100.\n",
      "  100. 100. 100. 100. 100. 100. 100. 100. 100. 100. 100. 100. 100. 100.]\n",
      " [100. 100. 100. 100. 100. 100. 100. 100. 100. 100. 100. 100. 100. 100.\n",
      "  100. 100. 100. 100. 100. 100. 100. 100. 100. 100. 100. 100. 100. 100.]]\n",
      "修改后的像素值: [[100. 100. 100. 100. 100. 100. 100. 100. 100. 100. 100. 100. 100. 100.\n",
      "  100. 100. 100. 100. 100. 100. 100. 100. 100. 100. 100. 100. 100. 100.]\n",
      " [100. 100. 100. 100. 100. 100. 100. 100. 100. 100. 100. 100. 100. 100.\n",
      "  100. 100. 100. 100. 100. 100. 100. 100. 100. 100. 100. 100. 100. 100.]\n",
      " [100. 100. 100. 100. 100. 100. 100. 100. 100. 100. 100. 100. 100. 100.\n",
      "  100. 100. 100. 100. 100. 100. 100. 100. 100. 100. 100. 100. 100. 100.]\n",
      " [100. 100. 100. 100. 100. 100. 100. 100. 100. 100. 100. 100. 100. 100.\n",
      "  100. 100. 100. 100. 100. 100. 100. 100. 100. 100. 100. 100. 100. 100.]\n",
      " [100. 100. 100. 100. 100. 100. 100. 100. 100. 100. 100. 100. 100. 100.\n",
      "  100. 427. 847. 439. 100. 100. 100. 100. 100. 100. 100. 100. 100. 100.]\n",
      " [100. 100. 100. 100. 100. 100. 100. 100. 100. 100. 100. 100. 100. 100.\n",
      "  100. 619. 862. 544. 100. 100. 100. 100. 100. 100. 100. 100. 100. 100.]\n",
      " [100. 100. 100. 100. 100. 100. 100. 100. 100. 100. 100. 100. 100. 100.\n",
      "  133. 799. 862. 544. 100. 100. 100. 100. 100. 100. 100. 100. 100. 100.]\n",
      " [100. 100. 100. 100. 100. 100. 100. 100. 100. 100. 100. 100. 100. 100.\n",
      "  145. 862. 862. 544. 100. 100. 100. 100. 100. 100. 100. 100. 100. 100.]\n",
      " [100. 100. 100. 100. 100. 100. 100. 100. 100. 100. 100. 100. 100. 100.\n",
      "  172. 862. 862. 544. 100. 100. 100. 100. 100. 100. 100. 100. 100. 100.]\n",
      " [100. 100. 100. 100. 100. 100. 100. 100. 100. 100. 100. 100. 100. 100.\n",
      "  436. 862. 862. 544. 100. 100. 100. 100. 100. 100. 100. 100. 100. 100.]\n",
      " [100. 100. 100. 100. 100. 100. 100. 100. 100. 100. 100. 100. 100. 100.\n",
      "  436. 862. 862. 544. 100. 100. 100. 100. 100. 100. 100. 100. 100. 100.]\n",
      " [100. 100. 100. 100. 100. 100. 100. 100. 100. 100. 100. 100. 100. 100.\n",
      "  673. 862. 862. 415. 100. 100. 100. 100. 100. 100. 100. 100. 100. 100.]\n",
      " [100. 100. 100. 100. 100. 100. 100. 100. 100. 100. 100. 100. 100. 100.\n",
      "  721. 862. 823. 208. 100. 100. 100. 100. 100. 100. 100. 100. 100. 100.]\n",
      " [100. 100. 100. 100. 100. 100. 100. 100. 100. 100. 100. 100. 100. 295.\n",
      "  856. 862. 679. 100. 100. 100. 100. 100. 100. 100. 100. 100. 100. 100.]\n",
      " [100. 100. 100. 100. 100. 100. 100. 100. 100. 100. 100. 100. 100. 658.\n",
      "  862. 862. 445. 100. 100. 100. 100. 100. 100. 100. 100. 100. 100. 100.]\n",
      " [100. 100. 100. 100. 100. 100. 100. 100. 100. 100. 100. 100. 100. 823.\n",
      "  862. 862. 250. 100. 100. 100. 100. 100. 100. 100. 100. 100. 100. 100.]\n",
      " [100. 100. 100. 100. 100. 100. 100. 100. 100. 100. 100. 100. 379. 862.\n",
      "  862. 490. 106. 100. 100. 100. 100. 100. 100. 100. 100. 100. 100. 100.]\n",
      " [100. 100. 100. 100. 100. 100. 100. 100. 100. 100. 100. 148. 817. 862.\n",
      "  862. 337. 100. 100. 100. 100. 100. 100. 100. 100. 100. 100. 100. 100.]\n",
      " [100. 100. 100. 100. 100. 100. 100. 100. 100. 100. 100. 160. 862. 862.\n",
      "  820. 100. 100. 100. 100. 100. 100. 100. 100. 100. 100. 100. 100. 100.]\n",
      " [100. 100. 100. 100. 100. 100. 100. 100. 100. 100. 127. 592. 862. 862.\n",
      "  406. 100. 100. 100. 100. 100. 100. 100. 100. 100. 100. 100. 100. 100.]\n",
      " [100. 100. 100. 100. 100. 100. 100. 100. 100. 100. 265. 862. 862. 862.\n",
      "  241. 100. 100. 100. 100. 100. 100. 100. 100. 100. 100. 100. 100. 100.]\n",
      " [100. 100. 100. 100. 100. 100. 100. 100. 100. 100. 547. 862. 862. 532.\n",
      "  100. 100. 100. 100. 100. 100. 100. 100. 100. 100. 100. 100. 100. 100.]\n",
      " [100. 100. 100. 100. 100. 100. 100. 100. 100. 100. 805. 862. 862. 283.\n",
      "  100. 100. 100. 100. 100. 100. 100. 100. 100. 100. 100. 100. 100. 100.]\n",
      " [100. 100. 100. 100. 100. 100. 100. 100. 100. 100. 508. 862. 568. 112.\n",
      "  100. 100. 100. 100. 100. 100. 100. 100. 100. 100. 100. 100. 100. 100.]\n",
      " [100. 100. 100. 100. 100. 100. 100. 100. 100. 100. 100. 100. 100. 100.\n",
      "  100. 100. 100. 100. 100. 100. 100. 100. 100. 100. 100. 100. 100. 100.]\n",
      " [100. 100. 100. 100. 100. 100. 100. 100. 100. 100. 100. 100. 100. 100.\n",
      "  100. 100. 100. 100. 100. 100. 100. 100. 100. 100. 100. 100. 100. 100.]\n",
      " [100. 100. 100. 100. 100. 100. 100. 100. 100. 100. 100. 100. 100. 100.\n",
      "  100. 100. 100. 100. 100. 100. 100. 100. 100. 100. 100. 100. 100. 100.]\n",
      " [100. 100. 100. 100. 100. 100. 100. 100. 100. 100. 100. 100. 100. 100.\n",
      "  100. 100. 100. 100. 100. 100. 100. 100. 100. 100. 100. 100. 100. 100.]]\n"
     ]
    }
   ],
   "source": [
    "import mindspore.dataset.vision.c_transforms as CV\n",
    "\n",
    "# 从mnist dataset读取3张图片\n",
    "mnist_dataset = ds.MnistDataset(dataset_dir=dataset_dir, num_samples=3)\n",
    "\n",
    "# 原图像素值\n",
    "for dic in mnist_dataset.create_dict_iterator(output_numpy=True):\n",
    "    print(\"原图像素值:\", dic['image'][:,:,0])\n",
    "\n",
    "# rescale 缩放系数，shift 平移大小，相当于ax+b\n",
    "rescale = CV.Rescale(rescale=3, shift=100)\n",
    "mnist_dataset1 = mnist_dataset.map(operations=rescale, input_columns=[\"image\"])\n",
    "\n",
    "# 修改后的像素值\n",
    "for dic in mnist_dataset1.create_dict_iterator(output_numpy=True):\n",
    "    print(\"修改后的像素值:\", dic['image'][:,:,0])"
   ]
  },
  {
   "cell_type": "markdown",
   "metadata": {},
   "source": [
    "### 步骤 4\t图像标准化\n",
    "mindspore.dataset.vision.py_transforms.Normalize(mean, std)\n",
    "\n",
    "将输入的NumPy图像数组（形状必须为(C, H, W)）用给定的均值和标准差进行标准化。\n",
    "数组的值必须在(0, 1]范围内。\n"
   ]
  },
  {
   "cell_type": "code",
   "execution_count": 45,
   "metadata": {},
   "outputs": [
    {
     "name": "stdout",
     "output_type": "stream",
     "text": [
      "原图像形状: (2448, 3264, 3)\n",
      "原图像素值: [[[131 145 109]\n",
      "  [131 145 109]\n",
      "  [132 146 110]\n",
      "  ...\n",
      "  [196 185 199]\n",
      "  [196 185 199]\n",
      "  [196 185 199]]\n",
      "\n",
      " [[132 146 110]\n",
      "  [132 146 110]\n",
      "  [133 147 111]\n",
      "  ...\n",
      "  [198 187 201]\n",
      "  [198 187 201]\n",
      "  [198 187 201]]\n",
      "\n",
      " [[132 146 110]\n",
      "  [133 147 111]\n",
      "  [135 149 113]\n",
      "  ...\n",
      "  [200 189 203]\n",
      "  [200 189 203]\n",
      "  [200 189 203]]\n",
      "\n",
      " ...\n",
      "\n",
      " [[127 131  72]\n",
      "  [130 134  75]\n",
      "  [134 140  80]\n",
      "  ...\n",
      "  [159 106  52]\n",
      "  [159 106  52]\n",
      "  [159 106  52]]\n",
      "\n",
      " [[127 131  72]\n",
      "  [130 134  75]\n",
      "  [134 140  80]\n",
      "  ...\n",
      "  [159 106  52]\n",
      "  [159 106  52]\n",
      "  [159 106  52]]\n",
      "\n",
      " [[127 131  72]\n",
      "  [130 134  75]\n",
      "  [133 139  79]\n",
      "  ...\n",
      "  [158 105  51]\n",
      "  [158 105  51]\n",
      "  [158 105  51]]]\n",
      "标准化之后的像素值: [[[  7.3199997  28.220001    5.0599976]\n",
      "  [  7.3199997  28.220001    5.0599976]\n",
      "  [  8.32       29.220001    6.0599976]\n",
      "  ...\n",
      "  [ 72.32       68.22       95.06     ]\n",
      "  [ 72.32       68.22       95.06     ]\n",
      "  [ 72.32       68.22       95.06     ]]\n",
      "\n",
      " [[  8.32       29.220001    6.0599976]\n",
      "  [  8.32       29.220001    6.0599976]\n",
      "  [  9.32       30.220001    7.0599976]\n",
      "  ...\n",
      "  [ 74.32       70.22       97.06     ]\n",
      "  [ 74.32       70.22       97.06     ]\n",
      "  [ 74.32       70.22       97.06     ]]\n",
      "\n",
      " [[  8.32       29.220001    6.0599976]\n",
      "  [  9.32       30.220001    7.0599976]\n",
      "  [ 11.32       32.22        9.059998 ]\n",
      "  ...\n",
      "  [ 76.32       72.22       99.06     ]\n",
      "  [ 76.32       72.22       99.06     ]\n",
      "  [ 76.32       72.22       99.06     ]]\n",
      "\n",
      " ...\n",
      "\n",
      " [[  3.3199997  14.220001  -31.940002 ]\n",
      "  [  6.3199997  17.220001  -28.940002 ]\n",
      "  [ 10.32       23.220001  -23.940002 ]\n",
      "  ...\n",
      "  [ 35.32      -10.779999  -51.940002 ]\n",
      "  [ 35.32      -10.779999  -51.940002 ]\n",
      "  [ 35.32      -10.779999  -51.940002 ]]\n",
      "\n",
      " [[  3.3199997  14.220001  -31.940002 ]\n",
      "  [  6.3199997  17.220001  -28.940002 ]\n",
      "  [ 10.32       23.220001  -23.940002 ]\n",
      "  ...\n",
      "  [ 35.32      -10.779999  -51.940002 ]\n",
      "  [ 35.32      -10.779999  -51.940002 ]\n",
      "  [ 35.32      -10.779999  -51.940002 ]]\n",
      "\n",
      " [[  3.3199997  14.220001  -31.940002 ]\n",
      "  [  6.3199997  17.220001  -28.940002 ]\n",
      "  [  9.32       22.220001  -24.940002 ]\n",
      "  ...\n",
      "  [ 34.32      -11.779999  -52.940002 ]\n",
      "  [ 34.32      -11.779999  -52.940002 ]\n",
      "  [ 34.32      -11.779999  -52.940002 ]]]\n"
     ]
    }
   ],
   "source": [
    "import numpy as np\n",
    "import mindspore.dataset as ds\n",
    "\n",
    "# 读取图片，decode=TRUE 解码为（H,W,C）的格式\n",
    "dataset = ds.ImageFolderDataset('./data/cat', decode=True)\n",
    "\n",
    "# 原图像素值\n",
    "for x in dataset.create_dict_iterator():\n",
    "    print(\"原图像形状:\",x['image'].shape) # 高，宽，通道数\n",
    "    print(\"原图像素值:\",x['image'])\n",
    "    \n",
    "# 进行标准化操作    \n",
    "normalize_op = CV.Normalize(mean=(123.68,116.78,103.94), std=[1, 1, 1])\n",
    "dataset = dataset.map(operations=normalize_op, input_columns=[\"image\"])\n",
    "\n",
    "# 标准化之后的像素值\n",
    "for x in dataset.create_dict_iterator():\n",
    "    print(\"标准化之后的像素值:\",x['image'])"
   ]
  },
  {
   "cell_type": "markdown",
   "metadata": {},
   "source": [
    "### 步骤 5\t随机水平翻转图像\n",
    "mindspore.dataset.vision.c_transforms.RandomHorizontalFlip(prob=0.5)\n"
   ]
  },
  {
   "cell_type": "code",
   "execution_count": 46,
   "metadata": {},
   "outputs": [
    {
     "data": {
      "image/png": "[encoded data removed]",
      "text/plain": [
       "<Figure size 576x576 with 1 Axes>"
      ]
     },
     "metadata": {
      "needs_background": "light"
     },
     "output_type": "display_data"
    },
    {
     "data": {
      "image/png": "[encoded data removed]",
      "text/plain": [
       "<Figure size 576x576 with 1 Axes>"
      ]
     },
     "metadata": {
      "needs_background": "light"
     },
     "output_type": "display_data"
    }
   ],
   "source": [
    "import mindspore.dataset.vision.c_transforms as CV\n",
    "import numpy as np\n",
    "import mindspore.dataset as ds\n",
    "\n",
    "# 读取图片，decode=TRUE 解码为（H,W,C）的格式\n",
    "dataset1 = ds.ImageFolderDataset('./data/cat', decode= True)\n",
    "\n",
    "i = 1\n",
    "\n",
    "# 显示原图\n",
    "plt.figure(figsize=(8,8))\n",
    "for dic in dataset1.create_dict_iterator():\n",
    "    plt.subplot(3,3,i)\n",
    "    plt.imshow(dic['image'].asnumpy())\n",
    "    plt.axis('off')\n",
    "    plt.title(\"Orignal\")\n",
    "    i +=1\n",
    "\n",
    "plt.show()\n",
    "\n",
    "# 水平翻转图片，随机翻转概率为1\n",
    "RandomHorizontalFlip = CV.RandomHorizontalFlip(1)\n",
    "dataset = dataset1.map(operations=RandomHorizontalFlip, input_columns=[\"image\"])\n",
    "\n",
    "\n",
    "# 显示翻转之后的图片\n",
    "plt.figure(figsize=(8,8))\n",
    "for dic in dataset.create_dict_iterator():\n",
    "    plt.subplot(3,3,i)\n",
    "    plt.imshow(dic['image'].asnumpy())\n",
    "    plt.axis('off')\n",
    "    plt.title(\"HorizontalFlip\")\n",
    "    i +=1\n",
    "\n",
    "plt.show()"
   ]
  },
  {
   "cell_type": "markdown",
   "metadata": {},
   "source": [
    "### 步骤 6\t转换图像通道\n",
    "mindspore.dataset.vision.c_transforms.HWC2CHW\n"
   ]
  },
  {
   "cell_type": "code",
   "execution_count": 47,
   "metadata": {},
   "outputs": [
    {
     "name": "stdout",
     "output_type": "stream",
     "text": [
      "原图形状： (2448, 3264, 3)\n",
      "通道转换之后的形状： (3, 2448, 3264)\n"
     ]
    }
   ],
   "source": [
    "import mindspore.dataset.vision.c_transforms as CV\n",
    "import numpy as np\n",
    "import mindspore.dataset as ds\n",
    "\n",
    "# 读取图片，decode=TRUE 解码为（H,W,C）的格式\n",
    "dataset = ds.ImageFolderDataset('./data/cat', decode= True)\n",
    "\n",
    "# 原图shape\n",
    "for x in dataset.create_dict_iterator():\n",
    "    print(\"原图形状：\", x['image'].shape) \n",
    "\n",
    "# 转置输入图像从形状(H, W, C)到形状(C, H, W)\n",
    "HWC2CHW = CV.HWC2CHW()\n",
    "dataset1 = dataset.map(operations=HWC2CHW, input_columns=[\"image\"])\n",
    "\n",
    "# 通道转换之后的shape\n",
    "for x in dataset1.create_dict_iterator():\n",
    "    print(\"通道转换之后的形状：\",x['image'].shape) "
   ]
  },
  {
   "cell_type": "markdown",
   "metadata": {},
   "source": [
    "## 2.5 进阶神经网络搭建\n",
    "### 步骤 1\t卷积神经网络\n",
    "卷积层\n",
    "\n",
    "mindspore.nn.Conv2d\n",
    "* in_channels：输入通道\n",
    "* out_channels：输出通道\n",
    "* kernel_size ：核大小\n",
    "* stride ：步长\n",
    "* pad_mode ：padding方式（“same”, “valid”, “pad”）. Default: “same”.\n",
    "* Padding：padding补齐数字\n",
    "* has_bias：是否有偏置项Default: False.\n",
    "* weight_init： 权重初始化 Default: ‘normal’.\n",
    "* bias_init：偏置项初始化Default: ‘zeros’.\n",
    "* data_format：数据形状（ ‘NHWC’ or ‘NCHW’ ）. Default: ‘NCHW’\n"
   ]
  },
  {
   "cell_type": "code",
   "execution_count": 48,
   "metadata": {},
   "outputs": [
    {
     "name": "stdout",
     "output_type": "stream",
     "text": [
      "(1, 24, 1080, 960)\n"
     ]
    }
   ],
   "source": [
    "import mindspore\n",
    "import mindspore.nn as nn\n",
    "from mindspore import Tensor\n",
    "\n",
    "# mindspore.nn.Conv2d(in_channels, out_channels, kernel_size, stride=1, pad_mode='same', padding=0, dilation=1, \n",
    "#                     group=1, has_bias=False, weight_init='normal', bias_init='zeros', data_format='NCHW')\n",
    "\n",
    "# 图片数，通道数，图像高，图像宽\n",
    "input = Tensor(np.ones([1, 3, 1080, 960]), mindspore.float32) \n",
    "\n",
    "# 输入通道数为3，输出通道数为24， 卷积核大小为5， 步长为1，padding方式same，有偏置项，权重初始化为normal\n",
    "net = nn.Conv2d(in_channels=3, out_channels=24, kernel_size=5, stride=1, pad_mode='same', has_bias=True, weight_init='normal')\n",
    "\n",
    "# 图片数，通道数，图像高，图像宽\n",
    "output = net(input).shape\n",
    "print(output)"
   ]
  },
  {
   "cell_type": "markdown",
   "metadata": {},
   "source": [
    "### 步骤 2\t激活函数\n",
    "矫正线性单元激活函数\n",
    "\n",
    "mindspore.nn.ReLU\n"
   ]
  },
  {
   "cell_type": "code",
   "execution_count": 49,
   "metadata": {},
   "outputs": [
    {
     "name": "stdout",
     "output_type": "stream",
     "text": [
      "[0. 2. 0. 2. 0.]\n"
     ]
    }
   ],
   "source": [
    "input_x = Tensor(np.array([-1, 2, -3, 2, -1]), mindspore.float16)\n",
    "\n",
    "relu = nn.ReLU()\n",
    "output = relu(input_x)\n",
    "print(output)"
   ]
  },
  {
   "cell_type": "markdown",
   "metadata": {},
   "source": [
    "### 步骤 3\t池化层\n",
    "2维数据最大池化\n",
    "\n",
    "mindspore.nn.MaxPool2d\n",
    "* kernel_size ：池化大小 Default: 1.\n",
    "* Stride ：池化步长 Default: 1.\n",
    "* pad_mode：padding方式（“same” or “valid”）. Default: “valid”.\n",
    "* data_format：数据形式（‘NHWC’ or ‘NCHW’ ）. Default: ‘NCHW’\n"
   ]
  },
  {
   "cell_type": "code",
   "execution_count": 50,
   "metadata": {},
   "outputs": [
    {
     "name": "stdout",
     "output_type": "stream",
     "text": [
      "[[[[5 0 3 3]\n",
      "   [7 9 3 5]\n",
      "   [2 4 7 6]\n",
      "   [8 8 1 6]]\n",
      "\n",
      "  [[7 7 8 1]\n",
      "   [5 9 8 9]\n",
      "   [4 3 0 3]\n",
      "   [5 0 2 3]]]]\n",
      "-----------------------------------\n",
      "[[[[9. 5.]\n",
      "   [8. 7.]]\n",
      "\n",
      "  [[9. 9.]\n",
      "   [5. 3.]]]]\n"
     ]
    }
   ],
   "source": [
    "input_x = np.random.randint(0, 10, [1, 2, 4, 4])\n",
    "print(input_x)\n",
    "print(\"-----------------------------------\")\n",
    "\n",
    "# 最大池化，池化大小2x2， 步长为2\n",
    "pool = nn.MaxPool2d(kernel_size=2, stride=2)\n",
    "\n",
    "output = pool(Tensor(input_x, mindspore.float32))  \n",
    "print(output)"
   ]
  },
  {
   "cell_type": "markdown",
   "metadata": {},
   "source": [
    "### 步骤 4\tFlatten层\n",
    "mindspore.nn.Flatten\n",
    "\n",
    "Flatten层可以把多维的输入一维化，常用在卷积层到全连接层的过渡。\n"
   ]
  },
  {
   "cell_type": "code",
   "execution_count": 51,
   "metadata": {},
   "outputs": [
    {
     "name": "stdout",
     "output_type": "stream",
     "text": [
      "[[[1. 1.]\n",
      "  [2. 2.]]\n",
      "\n",
      " [[3. 3.]\n",
      "  [4. 4.]]]\n",
      "-----------------------------------\n",
      "[[1. 1. 2. 2.]\n",
      " [3. 3. 4. 4.]]\n"
     ]
    }
   ],
   "source": [
    "from mindspore import Tensor\n",
    "import mindspore\n",
    "import mindspore.nn as nn\n",
    "\n",
    "input = Tensor(np.array([[[1, 1], [2, 2]], [[3, 3], [4, 4]]]), mindspore.float32)\n",
    "print(input)\n",
    "print(\"-----------------------------------\")\n",
    "\n",
    "net = nn.Flatten()\n",
    "output = net(input)\n",
    "print(output) "
   ]
  },
  {
   "cell_type": "markdown",
   "metadata": {},
   "source": [
    "### 步骤 5\t全连接层\n",
    "全连接层\n",
    "\n",
    "mindspore.nn.Dense\n",
    "* in_channels：输入通道\n",
    "* out_channels：输出通道\n",
    "* weight_init：权重初始化，Default 'normal'.\n"
   ]
  },
  {
   "cell_type": "code",
   "execution_count": 52,
   "metadata": {},
   "outputs": [
    {
     "name": "stdout",
     "output_type": "stream",
     "text": [
      "[[1. 1. 1.]\n",
      " [2. 2. 2.]]\n",
      "-----------------------------------\n",
      "[[3. 3. 3.]\n",
      " [6. 6. 6.]]\n"
     ]
    }
   ],
   "source": [
    "import mindspore.nn as nn\n",
    "from mindspore import Tensor\n",
    "\n",
    "# 构造输入张量\n",
    "input = Tensor(np.array([[1, 1, 1], [2, 2, 2]]), mindspore.float32)\n",
    "print(input)\n",
    "print(\"-----------------------------------\")\n",
    "\n",
    "# 构造全连接网络，输入通道为3，输出通道为3\n",
    "net = nn.Dense(in_channels=3, out_channels=3, weight_init=1)\n",
    "output = net(input)\n",
    "print(output) "
   ]
  },
  {
   "cell_type": "markdown",
   "metadata": {},
   "source": [
    "### 步骤 6\t搭建卷积神经网络模型\n",
    "所有神经网络的基类\n",
    "\n",
    "mindspore.nn.Cell\n"
   ]
  },
  {
   "cell_type": "code",
   "execution_count": 53,
   "metadata": {},
   "outputs": [],
   "source": [
    "import mindspore.nn as nn\n",
    "\n",
    "class MyCell(nn.Cell):\n",
    "    \n",
    "    # 定义算子\n",
    "    def __init__(self, ):\n",
    "        super(MyCell, self).__init__()\n",
    "        # 卷积层\n",
    "        self.conv = nn.Conv2d()\n",
    "         \n",
    "        # 激活函数\n",
    "        self.relu = nn.ReLU()\n",
    "        \n",
    "        # 最大池化层\n",
    "        self.max_pool2d = nn.MaxPool2d()\n",
    "        \n",
    "        # 网络展开\n",
    "        self.flatten = nn.Flatten()        \n",
    "        \n",
    "        # 全连接层\n",
    "        self.fc = nn.Dense()\n",
    "\n",
    "\n",
    "    # 建构网络\n",
    "    def construct(self, x):\n",
    "        x = self.conv(x)\n",
    "        x = self.relu(x)\n",
    "        x = self.max_pool2d(x)\n",
    "        x = self.flatten(x)\n",
    "        x = self.fc(x)\n",
    "        return x"
   ]
  },
  {
   "cell_type": "markdown",
   "metadata": {},
   "source": [
    "## 2.6 回调函数Callback\n",
    "Callback回调函数在MindSpore中被实现为一个类，Callback机制类似于一种监控模式，可以帮助用户观察网络训练过程中各种参数的变化情况和网络内部的状态，还可以根据用户的指定，在达到特定条件后执行相应的操作，在训练过程中，Callback列表会按照定义的顺序执行Callback函数。Callback机制让用户可以及时有效地掌握网络模型的训练状态，并根据需要随时作出调整，可以极大地提升用户的开发效率。\n",
    "\n",
    "### 步骤 1\tModelCheckpoint\n",
    "与模型训练过程相结合，保存训练后的模型和网络参数，方便进行再推理或再训练。ModelCheckpoint一般与CheckpointConfig配合使用，CheckpointConfig是一个参数配置类，可自定义配置checkpoint的保存策略。\n",
    "\n",
    "mindspore.train.callback.ModelCheckpoint\n",
    "* prefix：保存文件名称，默认'CKP'； \n",
    "* directory：保存文件路径，默认None；\n",
    "\n",
    "mindspore.train.callback.CheckpointConfig\n",
    "* save_checkpoint_steps：每多少步（step）保存一次模型，默认为1； \n",
    "* keep_checkpoint_max：最多保存多少个模型, 默认为5；\n",
    "\n"
   ]
  },
  {
   "cell_type": "code",
   "execution_count": 54,
   "metadata": {},
   "outputs": [],
   "source": [
    "from mindspore.train.callback import ModelCheckpoint,CheckpointConfig\n",
    "\n",
    "\n",
    "# 检查点设置，这里设定每5个step保存一次，最多保存1个次\n",
    "config_ck = CheckpointConfig(save_checkpoint_steps=5,\n",
    "                             keep_checkpoint_max=1)\n",
    "# 模型保存，定义保存文件名以及路径\n",
    "ckpoint_cb = ModelCheckpoint(prefix='CKP', directory='./', config=config_ck) # directory是传入参数"
   ]
  },
  {
   "cell_type": "markdown",
   "metadata": {},
   "source": [
    "### 步骤 2\tLossMonitor\n",
    "监控训练过程中的loss变化情况，当loss为NAN或INF时，提前终止训练。可以在日志中输出loss，方便用户查看。\n",
    "\n",
    "mindspore.train.callback.LossMonitor(per_print_times=1)\n",
    "* per_print_times：每多少步（step）打印一次损失值\n"
   ]
  },
  {
   "cell_type": "code",
   "execution_count": 55,
   "metadata": {},
   "outputs": [],
   "source": [
    "from mindspore.train.callback import LossMonitor\n",
    "\n",
    "# 每500步打印一次损失值\n",
    "loss_cb = LossMonitor(per_print_times=500)"
   ]
  },
  {
   "cell_type": "markdown",
   "metadata": {},
   "source": [
    "### 步骤 3\tTimeMonitor\n",
    "监控训练过程中每个epoch，每个step的运行时间。\n",
    "\n",
    "mindspore.train.callback.TimeMonitor(data_size=None)\n",
    "* data_size：数据集大小\n"
   ]
  },
  {
   "cell_type": "code",
   "execution_count": 56,
   "metadata": {},
   "outputs": [],
   "source": [
    "from mindspore.train.callback import TimeMonitor\n",
    "\n",
    "# 监控每次迭代的时间\n",
    "# time_cb = TimeMonitor(data_size=data_train.get_dataset_size())  # data_train.get_dataset_size()是传入参数"
   ]
  },
  {
   "cell_type": "markdown",
   "metadata": {},
   "source": [
    "### 步骤 4\tMindSpore自定义回调函数\n",
    "当用户有自己的特殊需求时，可以基于Callback基类，自定义满足用户自身需求的回调函数。Callback可以把训练过程中的重要信息记录下来，通过一个字典类型变量cb_params传递给Callback对象， 用户可以在各个自定义的Callback中获取到相关属性，执行自定义操作。\n",
    "\n",
    "以下面两个场景为例，介绍自定义Callback回调函数的功能：\n",
    "* 实现记录模型训练过程中的评估指标，用户可以在训练过程中，在每个epoch结束时，记录模型评估指标的变化。\n"
   ]
  },
  {
   "cell_type": "code",
   "execution_count": 57,
   "metadata": {},
   "outputs": [],
   "source": [
    "from mindspore.train.callback import Callback\n",
    "\n",
    "# 记录模型每个epoch的loss\n",
    "class TrainHistroy(Callback):\n",
    "    \"\"\"\n",
    "    记录模型训练时每个epoch的loss的回调函数\n",
    "\n",
    "    Args:\n",
    "        history (list): 传入list以保存模型每个epoch的loss\n",
    "    \"\"\"\n",
    "    \n",
    "    def __init__(self, history):\n",
    "        super(TrainHistroy, self).__init__()\n",
    "        self.history = history\n",
    "        \n",
    "    # 每个epoch结束时执行\n",
    "    def epoch_end(self, run_context):\n",
    "        cb_params = run_context.original_args()\n",
    "        loss = cb_params.net_outputs.asnumpy()\n",
    "        self.history.append(loss)\n",
    "\n",
    "# 记录每次迭代的模型损失值\n",
    "# train_hist_cb = TrainHistroy(hist['loss'])"
   ]
  },
  {
   "cell_type": "markdown",
   "metadata": {},
   "source": [
    "* 实现保存训练过程中精度最高的checkpoint文件，用户可以自定义在每一轮迭代后都保存当前精度最高的模型。"
   ]
  },
  {
   "cell_type": "code",
   "execution_count": 58,
   "metadata": {},
   "outputs": [],
   "source": [
    "# 测试并记录模型在测试集的loss和accuracy，每个epoch结束时进行模型测试并记录结果，跟踪并保存准确率最高的模型网络参数\n",
    "class EvalHistory(Callback):\n",
    "    \"\"\"\n",
    "    记录模型训练时每个epoch在测试集的loss和accuracy的回调函数，并保存准确率最高的模型网络参数\n",
    "\n",
    "    Args:\n",
    "        model (Cell): 模型，评估loss和accuracy用\n",
    "        loss_history (list): 传入list以保存模型每个epoch在测试集的loss\n",
    "        acc_history (list): 传入list以保存模型每个epoch在测试集的accuracy\n",
    "        eval_data (Dataset): 测试集，评估模型loss和accuracy用\n",
    "    \"\"\"\n",
    "    \n",
    "    #保存accuracy最高的网络参数\n",
    "    best_param = None\n",
    "    \n",
    "    def __init__(self, model, loss_history, acc_history, eval_data):\n",
    "        super(EvalHistory, self).__init__()\n",
    "        self.loss_history = loss_history\n",
    "        self.acc_history = acc_history\n",
    "        self.eval_data = eval_data\n",
    "        self.model = model\n",
    "    \n",
    "    # 每个epoch结束时执行\n",
    "    def epoch_end(self, run_context):\n",
    "        cb_params = run_context.original_args()\n",
    "        res = self.model.eval(self.eval_data, dataset_sink_mode=False)\n",
    "        \n",
    "        if len(self.acc_history)==0 or res['accuracy']>=max(self.acc_history):\n",
    "            self.best_param = copy.deepcopy(cb_params.network)\n",
    "            \n",
    "        self.loss_history.append(res['loss'])\n",
    "        self.acc_history.append(res['accuracy'])\n",
    "        \n",
    "        print('acc_eval: ',res['accuracy'])\n",
    "    \n",
    "    # 训练结束后执行\n",
    "    def end(self, run_context):\n",
    "        # 保存最优网络参数\n",
    "        best_param_path = os.path.join(ckpt_path, 'best_param.ckpt')\n",
    "        \n",
    "        if os.path.exists(best_param_path):\n",
    "            # best_param.ckpt已存在时MindSpore会覆盖旧的文件，这里修改文件读写权限防止报错\n",
    "            os.chmod(best_param_path, stat.S_IWRITE)\n",
    "            \n",
    "        save_checkpoint(self.best_param, best_param_path)\n",
    "\n",
    "# 测试并记录模型在验证集的loss和accuracy，并保存最优网络参数\n",
    "# eval_hist_cb = EvalHistory(model = model,\n",
    "#                            loss_history = hist['loss_eval'], \n",
    "#                            acc_history = hist['acc_eval'], \n",
    "#                            eval_data = test_data)"
   ]
  },
  {
   "cell_type": "markdown",
   "metadata": {},
   "source": [
    "## 2.7 模型保存与加载\n",
    "在模型训练过程中，可以添加检查点(CheckPoint)用于保存模型的参数，以便执行推理及再训练使用。如果想继续在不同硬件平台上做推理，可通过网络和CheckPoint格式文件生成对应的MindIR、AIR和ONNX格式文件。\n",
    "\n",
    "* MindIR：MindSpore的一种基于图表示的函数式IR，定义了可扩展的图结构以及算子的IR表示，它消除了不同后端的模型差异。可以把在Ascend 910训练好的模型，在Ascend 310和MindSpore Lite端侧上执行推理。\n",
    "* ONNX：全称Open Neural Network Exchange，是一种针对机器学习所设计的开放式的文件格式，用于存储训练好的模型。\n",
    "\n",
    "我们已在回调函数的ModelCheckpoint中介绍了如何保存CheckPoint格式文件，接下来我们将介绍导出MindIR和ONNX格式文件的方法。\n",
    "### 步骤 1\t导出MindIR格式文件\n",
    "如果想跨平台或硬件执行推理(Lite、Ascend 310)，可以通过网络定义和CheckPoint生成MindIR格式模型文件。当前支持基于静态图，且不包含控制流语义的推理网络导出。\n",
    "* input用来指定导出模型的输入shape以及数据类型，input为export方法的入参，代表网络的输入，如果网络有多个输入，需要一同传进export方法。 例如：export(network, Tensor(input1), Tensor(input2), file_name='network', file_format='MINDIR')\n",
    "* 导出的文件名称会自动添加”.mindir”后缀。\n"
   ]
  },
  {
   "cell_type": "code",
   "execution_count": 59,
   "metadata": {},
   "outputs": [],
   "source": [
    "import numpy as np\n",
    "from mindspore import Tensor, export, load_checkpoint, load_param_into_net\n",
    "\n",
    "# resnet = ResNet50()\n",
    "# # load the parameter into net\n",
    "# load_checkpoint(\"resnet50-2_32.ckpt\", net=resnet)\n",
    "# input = np.random.uniform(0.0, 1.0, size=[32, 3, 224, 224]).astype(np.float32)\n",
    "# export(resnet, Tensor(input), file_name='resnet50-2_32', file_format='MINDIR')"
   ]
  },
  {
   "cell_type": "markdown",
   "metadata": {},
   "source": [
    "### 步骤 2\t导出ONNX格式文件\n",
    "当有了CheckPoint文件后，如果想继续在昇腾AI处理器、GPU、CPU等多种硬件上做推理，需要通过网络和CheckPoint生成对应的ONNX格式模型文件。\n",
    "* input用来指定导出模型的输入shape以及数据类型，input为export方法的入参，代表网络的输入，如果网络有多个输入，需要一同传进export方法。 例如：export(network, Tensor(input1), Tensor(input2), file_name='network', file_format='ONNX')\n",
    "* 导出的文件名称会自动添加”.onnx”后缀。\n",
    "* 目前ONNX格式导出仅支持ResNet系列网络。\n"
   ]
  },
  {
   "cell_type": "code",
   "execution_count": 60,
   "metadata": {},
   "outputs": [],
   "source": [
    "import numpy as np\n",
    "from mindspore import Tensor, export, load_checkpoint, load_param_into_net\n",
    "\n",
    "# resnet = ResNet50()\n",
    "# # load the parameter into net\n",
    "# load_checkpoint(\"resnet50-2_32.ckpt\", net=resnet)\n",
    "# input = np.random.uniform(0.0, 1.0, size=[32, 3, 224, 224]).astype(np.float32)\n",
    "# export(resnet, Tensor(input), file_name='resnet50-2_32', file_format='ONNX') "
   ]
  },
  {
   "cell_type": "markdown",
   "metadata": {},
   "source": [
    "### 步骤 3\t模型加载\n",
    "针对仅推理场景可以使用load_checkpoint把参数直接加载到网络中，以便进行后续的推理验证。\n",
    "* load_checkpoint方法会把参数文件中的网络参数加载到模型中。加载后，网络中的参数就是CheckPoint保存的。\n",
    "* eval方法会验证训练后模型的精度。\n"
   ]
  },
  {
   "cell_type": "code",
   "execution_count": 61,
   "metadata": {},
   "outputs": [],
   "source": [
    "# resnet = ResNet50()\n",
    "# load_checkpoint(\"resnet50-2_32.ckpt\", net=resnet)\n",
    "# dateset_eval = create_dataset(os.path.join(mnist_path, \"test\"), 32, 1) # define the test dataset\n",
    "# loss = CrossEntropyLoss()\n",
    "# model = Model(resnet, loss, metrics={\"accuracy\"})\n",
    "# acc = model.eval(dataset_eval) "
   ]
  },
  {
   "cell_type": "markdown",
   "metadata": {},
   "source": [
    "# 3 实验总结\n",
    "本实验介绍了MindSpore的参数初始化方法，运行环境配置，数据集预处理和数据增强，以及卷积神经网络的搭建，如何设置回调函数Callback，模型的保存与加载等，让学生全面掌握MindSpore的开发流程，熟悉MindSpore的进阶用法，能够使用MindSPore搭建并训练复杂神经网络，为后续实验打下良好基础。\n",
    "\n"
   ]
  },
  {
   "cell_type": "code",
   "execution_count": null,
   "metadata": {},
   "outputs": [],
   "source": []
  }
 ],
 "metadata": {
  "kernelspec": {
   "display_name": "Python 3 (ipykernel)",
   "language": "python",
   "name": "python3"
  },
  "language_info": {
   "codemirror_mode": {
    "name": "ipython",
    "version": 3
   },
   "file_extension": ".py",
   "mimetype": "text/x-python",
   "name": "python",
   "nbconvert_exporter": "python",
   "pygments_lexer": "ipython3",
   "version": "3.7.5"
  }
 },
 "nbformat": 4,
 "nbformat_minor": 4
}

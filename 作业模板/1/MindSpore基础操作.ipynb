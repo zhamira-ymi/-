{
 "cells": [
  {
   "attachments": {},
   "cell_type": "markdown",
   "metadata": {},
   "source": [
    "# 1 实验介绍\n",
    "## 1.1 关于本实验\n",
    "本实验通过介绍MindSpore的数据结构与数据类型，MindSpore搭建神经网络用到的基础模块，比如数据集加载，神经网络搭建，模型训练与评估等，让学员熟悉MindSpore的基础用法，掌握MindSpore开发的简单流程。\n",
    "## 1.2 实验目的\n",
    "\n",
    "理解MindSpore开发基本流程。\n",
    "\n",
    "\n",
    "理解MindSpore基础模块的功能。\n",
    "\n",
    "\n",
    "掌握MindSpore的简单操作。\n",
    "\n",
    "## 1.3 背景知识\n",
    "神经网络知识，感知机，多层感知机，前向传播，反向传播，激活函数，损失函数，优化器，评估方法。\n",
    "## 1.4 实验设计\n",
    "1.张量和数据类型\n",
    "2.数据集加载\n",
    "3.全连接网络搭建\n",
    "4.模型训练\n",
    "5.模型评估\n",
    "# 2 实验过程\n",
    "## 2.1 张量和数据类型\n",
    "张量（Tensor）是MindSpore网络运算中的基本数据结构。张量中的数据类型可参考dtype。\n",
    "不同维度的张量分别表示不同的数据，0维张量表示标量，1维张量表示向量，2维张量表示矩阵，3维张量可以表示彩色图像的RGB三通道等等。\n",
    "\n",
    "MindSpore张量支持不同的数据类型，包含int8、int16、int32、int64、uint8、uint16、uint32、uint64、float16、float32、float64、bool_，与NumPy的数据类型一一对应。\n",
    "在MindSpore的运算处理流程中，Python中的int数会被转换为定义的int64类型，float数会被转换为定义的float32类型。\n",
    "### 步骤 1\t指定MindSpore数据类型\n",
    "导入MindSpore，设置Jupyter notebook的cell同时输出多行。\n"
   ]
  },
  {
   "cell_type": "code",
   "execution_count": 3,
   "metadata": {},
   "outputs": [],
   "source": [
    "# 导入MindSpore\n",
    "import mindspore\n",
    "from mindspore import dtype \n",
    "from mindspore import Tensor\n",
    "\n",
    "# cell同时输出多行\n",
    "from IPython.core.interactiveshell import InteractiveShell\n",
    "InteractiveShell.ast_node_interactivity = \"all\""
   ]
  },
  {
   "cell_type": "code",
   "execution_count": 4,
   "metadata": {},
   "outputs": [
    {
     "data": {
      "text/plain": [
       "int"
      ]
     },
     "execution_count": 4,
     "metadata": {},
     "output_type": "execute_result"
    },
    {
     "data": {
      "text/plain": [
       "mindspore.float64"
      ]
     },
     "execution_count": 4,
     "metadata": {},
     "output_type": "execute_result"
    }
   ],
   "source": [
    "# 指定数据类型\n",
    "a = 1\n",
    "type(a)\n",
    "b = Tensor(a, dtype.float64) \n",
    "b.dtype "
   ]
  },
  {
   "attachments": {},
   "cell_type": "markdown",
   "metadata": {},
   "source": [
    "### 步骤 2\t张量构造\n",
    "构造张量时，支持传入Tensor、float、int、bool、tuple、list和NumPy.array类型，其中tuple和list里只能存放float、int、bool类型数据。\n",
    "\n",
    "Tensor初始化时，可指定dtype。如果没有指定dtype，初始值int、float、bool分别生成数据类型为mindspore.int32、mindspore.float32、mindspore.bool_的0维Tensor， 初始值tuple和list生成的1维Tensor数据类型与tuple和list里存放的数据类型相对应，如果包含多种不同类型的数据，则按照优先级：bool < int < float，选择相对优先级最高类型所对应的mindspore数据类型。 如果初始值是Tensor，则生成的Tensor数据类型与其一致；如果初始值是NumPy.array，则生成的Tensor数据类型与之对应。\n",
    "\n",
    "用数组创建张量\n"
   ]
  },
  {
   "cell_type": "code",
   "execution_count": 5,
   "metadata": {},
   "outputs": [
    {
     "data": {
      "text/plain": [
       "Tensor(shape=[2, 2], dtype=Int32, value=\n",
       "[[1, 2],\n",
       " [3, 4]])"
      ]
     },
     "execution_count": 5,
     "metadata": {},
     "output_type": "execute_result"
    }
   ],
   "source": [
    "import numpy as np\n",
    "from mindspore import Tensor\n",
    "\n",
    "# 用数组创建张量\n",
    "x = Tensor(np.array([[1, 2], [3, 4]]), dtype.int32)\n",
    "x"
   ]
  },
  {
   "attachments": {},
   "cell_type": "markdown",
   "metadata": {},
   "source": [
    "用数值创建张量"
   ]
  },
  {
   "cell_type": "code",
   "execution_count": 6,
   "metadata": {},
   "outputs": [
    {
     "data": {
      "text/plain": [
       "Tensor(shape=[], dtype=Int32, value= 1)"
      ]
     },
     "execution_count": 6,
     "metadata": {},
     "output_type": "execute_result"
    },
    {
     "data": {
      "text/plain": [
       "Tensor(shape=[], dtype=Int32, value= 2)"
      ]
     },
     "execution_count": 6,
     "metadata": {},
     "output_type": "execute_result"
    }
   ],
   "source": [
    "# 用数值创建张量\n",
    "y = Tensor(1.0, dtype.int32)\n",
    "z = Tensor(2, dtype.int32)\n",
    "y\n",
    "z"
   ]
  },
  {
   "attachments": {},
   "cell_type": "markdown",
   "metadata": {},
   "source": [
    "用Bool创建张量"
   ]
  },
  {
   "cell_type": "code",
   "execution_count": 7,
   "metadata": {},
   "outputs": [
    {
     "data": {
      "text/plain": [
       "Tensor(shape=[], dtype=Bool, value= True)"
      ]
     },
     "execution_count": 7,
     "metadata": {},
     "output_type": "execute_result"
    }
   ],
   "source": [
    "# 用Bool创建张量\n",
    "m = Tensor(True, dtype.bool_)\n",
    "m"
   ]
  },
  {
   "attachments": {},
   "cell_type": "markdown",
   "metadata": {},
   "source": [
    "用tuple创建张量"
   ]
  },
  {
   "cell_type": "code",
   "execution_count": 8,
   "metadata": {},
   "outputs": [
    {
     "data": {
      "text/plain": [
       "Tensor(shape=[3], dtype=Int16, value= [1, 2, 3])"
      ]
     },
     "execution_count": 8,
     "metadata": {},
     "output_type": "execute_result"
    }
   ],
   "source": [
    "# 用tuple创建张量\n",
    "n = Tensor((1, 2, 3), dtype.int16)\n",
    "n"
   ]
  },
  {
   "attachments": {},
   "cell_type": "markdown",
   "metadata": {},
   "source": [
    "用list创建张量"
   ]
  },
  {
   "cell_type": "code",
   "execution_count": 9,
   "metadata": {},
   "outputs": [
    {
     "data": {
      "text/plain": [
       "Tensor(shape=[3], dtype=Float64, value= [4.00000000e+000, 5.00000000e+000, 6.00000000e+000])"
      ]
     },
     "execution_count": 9,
     "metadata": {},
     "output_type": "execute_result"
    }
   ],
   "source": [
    "# 用list创建张量\n",
    "p = Tensor([4.0, 5.0, 6.0], dtype.float64)\n",
    "p"
   ]
  },
  {
   "attachments": {},
   "cell_type": "markdown",
   "metadata": {},
   "source": [
    "用常量创建张量"
   ]
  },
  {
   "cell_type": "code",
   "execution_count": 10,
   "metadata": {},
   "outputs": [
    {
     "data": {
      "text/plain": [
       "Tensor(shape=[], dtype=Float64, value= 1)"
      ]
     },
     "execution_count": 10,
     "metadata": {},
     "output_type": "execute_result"
    }
   ],
   "source": [
    "# 用常量创建张量\n",
    "q = Tensor(1, dtype.float64)\n",
    "q"
   ]
  },
  {
   "attachments": {},
   "cell_type": "markdown",
   "metadata": {},
   "source": [
    "### 步骤 3\t张量的属性\n",
    "张量的属性包括形状（shape）和数据类型（dtype）。\n",
    "* 形状：Tensor的shape，是一个tuple。\n",
    "* 数据类型：Tensor的dtype，是MindSpore的一个数据类型。\n"
   ]
  },
  {
   "cell_type": "code",
   "execution_count": 11,
   "metadata": {},
   "outputs": [
    {
     "data": {
      "text/plain": [
       "(2, 2)"
      ]
     },
     "execution_count": 11,
     "metadata": {},
     "output_type": "execute_result"
    },
    {
     "data": {
      "text/plain": [
       "mindspore.int32"
      ]
     },
     "execution_count": 11,
     "metadata": {},
     "output_type": "execute_result"
    }
   ],
   "source": [
    "x = Tensor(np.array([[1, 2], [3, 4]]), dtype.int32)\n",
    "x_shape = x.shape  # 形状\n",
    "x_dtype = x.dtype  # 数据类型\n",
    "\n",
    "x_shape\n",
    "x_dtype"
   ]
  },
  {
   "cell_type": "code",
   "execution_count": 12,
   "metadata": {},
   "outputs": [
    {
     "data": {
      "text/plain": [
       "(2, 2)"
      ]
     },
     "execution_count": 12,
     "metadata": {},
     "output_type": "execute_result"
    },
    {
     "data": {
      "text/plain": [
       "mindspore.int32"
      ]
     },
     "execution_count": 12,
     "metadata": {},
     "output_type": "execute_result"
    },
    {
     "data": {
      "text/plain": [
       "2"
      ]
     },
     "execution_count": 12,
     "metadata": {},
     "output_type": "execute_result"
    },
    {
     "data": {
      "text/plain": [
       "4"
      ]
     },
     "execution_count": 12,
     "metadata": {},
     "output_type": "execute_result"
    }
   ],
   "source": [
    "x = Tensor(np.array([[1, 2], [3, 4]]), dtype.int32)\n",
    "\n",
    "x.shape # 形状\n",
    "x.dtype # 数据类型\n",
    "x.ndim  # 维度\n",
    "x.size  # 大小"
   ]
  },
  {
   "attachments": {},
   "cell_type": "markdown",
   "metadata": {},
   "source": [
    "### 步骤 4\t张量的方法\n",
    "\n",
    "asnumpy()：将Tensor转换为NumPy的array。\n"
   ]
  },
  {
   "cell_type": "code",
   "execution_count": 13,
   "metadata": {},
   "outputs": [
    {
     "data": {
      "text/plain": [
       "Tensor(shape=[2, 2], dtype=Bool, value=\n",
       "[[ True,  True],\n",
       " [False, False]])"
      ]
     },
     "execution_count": 13,
     "metadata": {},
     "output_type": "execute_result"
    },
    {
     "data": {
      "text/plain": [
       "array([[ True,  True],\n",
       "       [False, False]])"
      ]
     },
     "execution_count": 13,
     "metadata": {},
     "output_type": "execute_result"
    }
   ],
   "source": [
    "y = Tensor(np.array([[True, True], [False, False]]), dtype.bool_)\n",
    "\n",
    "# 将Tensor数据类型转换成NumPy\n",
    "y_array = y.asnumpy()\n",
    "\n",
    "y\n",
    "y_array"
   ]
  },
  {
   "attachments": {},
   "cell_type": "markdown",
   "metadata": {},
   "source": [
    "## 2.2 数据集加载\n",
    "MindSpore.dataset提供API来加载和处理各种常见的数据集，如MNIST, CIFAR-10, CIFAR-100, VOC, ImageNet, CelebA等。\n",
    "### 步骤 1\t加载MNIST数据集\n",
    "mindspore.dataset.MnistDataset\n"
   ]
  },
  {
   "cell_type": "code",
   "execution_count": 14,
   "metadata": {},
   "outputs": [
    {
     "data": {
      "text/plain": [
       "<Figure size 800x800 with 0 Axes>"
      ]
     },
     "execution_count": 14,
     "metadata": {},
     "output_type": "execute_result"
    },
    {
     "data": {
      "text/plain": [
       "<Axes: >"
      ]
     },
     "execution_count": 14,
     "metadata": {},
     "output_type": "execute_result"
    },
    {
     "data": {
      "text/plain": [
       "<matplotlib.image.AxesImage at 0x1c302a5cd90>"
      ]
     },
     "execution_count": 14,
     "metadata": {},
     "output_type": "execute_result"
    },
    {
     "data": {
      "text/plain": [
       "(-0.5, 27.5, 27.5, -0.5)"
      ]
     },
     "execution_count": 14,
     "metadata": {},
     "output_type": "execute_result"
    },
    {
     "data": {
      "text/plain": [
       "<Axes: >"
      ]
     },
     "execution_count": 14,
     "metadata": {},
     "output_type": "execute_result"
    },
    {
     "data": {
      "text/plain": [
       "<matplotlib.image.AxesImage at 0x1c302a5cd60>"
      ]
     },
     "execution_count": 14,
     "metadata": {},
     "output_type": "execute_result"
    },
    {
     "data": {
      "text/plain": [
       "(-0.5, 27.5, 27.5, -0.5)"
      ]
     },
     "execution_count": 14,
     "metadata": {},
     "output_type": "execute_result"
    },
    {
     "data": {
      "text/plain": [
       "<Axes: >"
      ]
     },
     "execution_count": 14,
     "metadata": {},
     "output_type": "execute_result"
    },
    {
     "data": {
      "text/plain": [
       "<matplotlib.image.AxesImage at 0x1c302aea1f0>"
      ]
     },
     "execution_count": 14,
     "metadata": {},
     "output_type": "execute_result"
    },
    {
     "data": {
      "text/plain": [
       "(-0.5, 27.5, 27.5, -0.5)"
      ]
     },
     "execution_count": 14,
     "metadata": {},
     "output_type": "execute_result"
    },
    {
     "data": {
      "image/png": "[encoded data removed]",
      "text/plain": [
       "<Figure size 800x800 with 3 Axes>"
      ]
     },
     "metadata": {},
     "output_type": "display_data"
    }
   ],
   "source": [
    "import os\n",
    "import mindspore.dataset as ds\n",
    "import matplotlib.pyplot as plt\n",
    "\n",
    "dataset_dir = \"./data/train\"  # 数据集路径\n",
    "\n",
    "# 从mnist dataset读取3张图片\n",
    "mnist_dataset = ds.MnistDataset(dataset_dir=dataset_dir, num_samples=3)\n",
    "\n",
    "# 设置图像大小\n",
    "plt.figure(figsize=(8,8))\n",
    "i = 1\n",
    "\n",
    "# 打印3张子图\n",
    "for dic in mnist_dataset.create_dict_iterator(output_numpy=True):\n",
    "    plt.subplot(3,3,i)\n",
    "    plt.imshow(dic['image'][:,:,0])\n",
    "    plt.axis('off')\n",
    "    i +=1\n",
    "\n",
    "plt.show()"
   ]
  },
  {
   "attachments": {},
   "cell_type": "markdown",
   "metadata": {},
   "source": [
    "MindSpore还支持加载多种数据存储格式下的数据集，用户可以直接使用mindspore.dataset中对应的类加载磁盘中的数据文件。\n",
    "### 步骤 2\t加载NumPy数据集\n",
    "mindspore.dataset.NumpySlicesDataset\n"
   ]
  },
  {
   "cell_type": "code",
   "execution_count": 15,
   "metadata": {},
   "outputs": [
    {
     "name": "stdout",
     "output_type": "stream",
     "text": [
      "{'col_1': Tensor(shape=[], dtype=Int32, value= 2)}\n",
      "{'col_1': Tensor(shape=[], dtype=Int32, value= 3)}\n",
      "{'col_1': Tensor(shape=[], dtype=Int32, value= 1)}\n"
     ]
    }
   ],
   "source": [
    "import mindspore.dataset as ds\n",
    "\n",
    "data = ds.NumpySlicesDataset([1, 2, 3], column_names=[\"col_1\"])\n",
    "for x in data.create_dict_iterator():\n",
    "    print(x)"
   ]
  },
  {
   "attachments": {},
   "cell_type": "markdown",
   "metadata": {},
   "source": [
    "## 2.3 全连接网络搭建\n",
    "### 步骤 1\t全连接神经网络\n",
    "全连接层\n",
    "mindspore.nn.Dense\n",
    "* in_channels：输入通道\n",
    "* out_channels：输出通道\n",
    "* weight_init：权重初始化，Default 'normal'.\n"
   ]
  },
  {
   "cell_type": "code",
   "execution_count": 16,
   "metadata": {},
   "outputs": [
    {
     "name": "stdout",
     "output_type": "stream",
     "text": [
      "[[1. 1. 1.]\n",
      " [2. 2. 2.]]\n",
      "[[3. 3. 3.]\n",
      " [6. 6. 6.]]\n"
     ]
    }
   ],
   "source": [
    "import mindspore.nn as nn\n",
    "from mindspore import Tensor\n",
    "\n",
    "# 构造输入张量\n",
    "input = Tensor(np.array([[1, 1, 1], [2, 2, 2]]), mindspore.float32)\n",
    "print(input)\n",
    "\n",
    "# 构造全连接网络，输入通道为3，输出通道为3\n",
    "net = nn.Dense(in_channels=3, out_channels=3, weight_init=1)\n",
    "output = net(input)\n",
    "print(output)"
   ]
  },
  {
   "attachments": {},
   "cell_type": "markdown",
   "metadata": {},
   "source": [
    "### 步骤 2\t激活函数\n",
    "矫正线性单元激活函数\n",
    "\n",
    "mindspore.nn.ReLU\n"
   ]
  },
  {
   "cell_type": "code",
   "execution_count": 17,
   "metadata": {},
   "outputs": [
    {
     "name": "stdout",
     "output_type": "stream",
     "text": [
      "[0. 2. 0. 2. 0.]\n"
     ]
    }
   ],
   "source": [
    "input_x = Tensor(np.array([-1, 2, -3, 2, -1]), mindspore.float16)\n",
    "\n",
    "relu = nn.ReLU()\n",
    "output = relu(input_x)\n",
    "print(output)"
   ]
  },
  {
   "attachments": {},
   "cell_type": "markdown",
   "metadata": {},
   "source": [
    "### 步骤 3\t搭建模型\n",
    "所有神经网络的基类\n",
    "\n",
    "mindspore.nn.Cell\n"
   ]
  },
  {
   "cell_type": "code",
   "execution_count": 18,
   "metadata": {},
   "outputs": [],
   "source": [
    "import mindspore.nn as nn\n",
    "\n",
    "class MyCell(nn.Cell):\n",
    "    \n",
    "    # 定义算子\n",
    "    def __init__(self, ):\n",
    "        super(MyCell, self).__init__()\n",
    "        \n",
    "        # 全连接层\n",
    "        self.fc = nn.Dense()\n",
    "\n",
    "        # 激活函数\n",
    "        self.relu = nn.ReLU()\n",
    "\n",
    "    # 建构网络\n",
    "    def construct(self, x):\n",
    "        x = self.fc(x)\n",
    "        x = self.relu(x)\n",
    "        return x"
   ]
  },
  {
   "attachments": {},
   "cell_type": "markdown",
   "metadata": {},
   "source": [
    "## 2.4 模型训练与评估\n",
    "### 步骤 1\t损失函数\n",
    "交叉熵损失函数，用于分类模型。当标签数据不是one-hot编码形式时，需要输入参数sparse为True。\n",
    "\n",
    "mindspore.nn.SoftmaxCrossEntropyWithLogits\n"
   ]
  },
  {
   "cell_type": "code",
   "execution_count": 19,
   "metadata": {},
   "outputs": [
    {
     "name": "stdout",
     "output_type": "stream",
     "text": [
      "[[5. 0. 3. 3. 7. 3. 5. 2. 4. 7.]]\n",
      "[1]\n",
      "[7.868383]\n"
     ]
    }
   ],
   "source": [
    "import mindspore.nn as nn\n",
    "\n",
    "# 交叉熵损失函数\n",
    "loss = nn.SoftmaxCrossEntropyWithLogits(sparse=True)\n",
    "\n",
    "np.random.seed(0)\n",
    "logits = Tensor(np.random.randint(0, 9, [1, 10]), mindspore.float32)\n",
    "print(logits)\n",
    "\n",
    "labels_np = np.ones([1,]).astype(np.int32)\n",
    "labels = Tensor(labels_np)\n",
    "print(labels)\n",
    "\n",
    "output = loss(logits, labels)\n",
    "print(output)"
   ]
  },
  {
   "attachments": {},
   "cell_type": "markdown",
   "metadata": {},
   "source": [
    "### 步骤 2\t优化器\n",
    "深度学习优化算法大概常用的有SGD、Adam、Ftrl、lazyadam、Momentum、RMSprop、Lars、Proximal_ada_grad和lamb这几种。\n",
    "\n",
    "动量优化器\n",
    "\n",
    "mindspore.nn.Momentum\n"
   ]
  },
  {
   "cell_type": "code",
   "execution_count": 20,
   "metadata": {},
   "outputs": [],
   "source": [
    "# optim = nn.Momentum(params, learning_rate=0.1, momentum=0.9, weight_decay=0.0) # params是传入的参数"
   ]
  },
  {
   "attachments": {},
   "cell_type": "markdown",
   "metadata": {},
   "source": [
    "### 步骤 3\t模型编译\n",
    "mindspore.Model\n",
    "* network：神经网络\n",
    "* loss_fn：损失函数\n",
    "* optimizer：优化器\n",
    "* metrics：评估指标\n"
   ]
  },
  {
   "cell_type": "code",
   "execution_count": 21,
   "metadata": {},
   "outputs": [],
   "source": [
    "from mindspore import Model\n",
    "\n",
    "# 定义神经网络\n",
    "net = nn.Dense(in_channels=3, out_channels=3, weight_init=1)\n",
    "# 定义损失函数\n",
    "loss = nn.SoftmaxCrossEntropyWithLogits()\n",
    "# 定义优化器\n",
    "optim = nn.Momentum(params=net.trainable_params(), learning_rate=0.1, momentum=0.9)\n",
    "# 模型编译\n",
    "model = Model(network = net, loss_fn=loss, optimizer=optim, metrics=None)"
   ]
  },
  {
   "attachments": {},
   "cell_type": "markdown",
   "metadata": {},
   "source": [
    "### 步骤 4\t模型训练\n",
    "model.train\n",
    "* epoch：训练次数\n",
    "* train_dataset ：训练集\n"
   ]
  },
  {
   "cell_type": "code",
   "execution_count": 22,
   "metadata": {},
   "outputs": [],
   "source": [
    "# model.train(epoch=10, train_dataset=train_dataset)  # train_dataset 是传入参数"
   ]
  },
  {
   "attachments": {},
   "cell_type": "markdown",
   "metadata": {},
   "source": [
    "### 步骤 5\t模型评估\n",
    "model.eval\n",
    "* valid_dataset：测试集\n"
   ]
  },
  {
   "cell_type": "code",
   "execution_count": 23,
   "metadata": {},
   "outputs": [],
   "source": [
    "# model.eval(valid_dataset=test_dataset)  # test_dataset 是传入参数"
   ]
  },
  {
   "attachments": {},
   "cell_type": "markdown",
   "metadata": {},
   "source": [
    "# 3 实验总结\n",
    "本实验介绍了MindSpore的数据结构与类型，以及MindSpore搭建神经网络用到的基础模块，让学员学会如何加载数据集，搭建神经网络，训练和评估模型等，从易到难，由浅入深，让学员熟悉MindSpore的基础用法，掌握MindSpore开发的简单流程。\n"
   ]
  },
  {
   "cell_type": "code",
   "execution_count": null,
   "metadata": {},
   "outputs": [],
   "source": []
  }
 ],
 "metadata": {
  "kernelspec": {
   "display_name": "Python 3 (ipykernel)",
   "language": "python",
   "name": "python3"
  },
  "language_info": {
   "codemirror_mode": {
    "name": "ipython",
    "version": 3
   },
   "file_extension": ".py",
   "mimetype": "text/x-python",
   "name": "python",
   "nbconvert_exporter": "python",
   "pygments_lexer": "ipython3",
   "version": "3.8.10"
  }
 },
 "nbformat": 4,
 "nbformat_minor": 4
}
